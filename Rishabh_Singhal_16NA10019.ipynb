{
 "cells": [
  {
   "cell_type": "markdown",
   "metadata": {},
   "source": [
    "# Forest Fires : Prediction of Forest Fires using the demographic and weather data of a forest."
   ]
  },
  {
   "cell_type": "markdown",
   "metadata": {},
   "source": [
    "## Forest ﬁre prediction constitutes a signiﬁcant com-ponent of forest ﬁre management. It plays a significant role in resource allocation, mitigation, and recovery efforts. \n",
    "## Here below, I have visualized the effects of variation of a particular feature on forest fire and compared the loss of different models after training them."
   ]
  },
  {
   "cell_type": "code",
   "execution_count": 79,
   "metadata": {},
   "outputs": [],
   "source": [
    "import matplotlib.pyplot as plt\n",
    "import math\n",
    "import numpy as np\n",
    "import pandas as pd\n",
    "import random\n",
    "\n",
    "# importing sklearn libraries\n",
    "from sklearn import neural_network, linear_model, preprocessing, svm, tree\n",
    "from sklearn.ensemble import RandomForestRegressor, RandomForestClassifier\n",
    "from sklearn.metrics import accuracy_score, mean_squared_error, r2_score\n",
    "from sklearn.model_selection import train_test_split\n",
    "from sklearn.model_selection import cross_val_score\n",
    "from sklearn.model_selection import KFold\n",
    "from sklearn.naive_bayes import GaussianNB\n",
    "\n",
    "# importing keras libraries\n",
    "from keras.models import Sequential\n",
    "from keras.layers import Dense\n",
    "from keras.wrappers.scikit_learn import KerasRegressor\n",
    "\n",
    "import warnings\n",
    "\n",
    "# supressing the warning on the usage of Linear Regression model\n",
    "warnings.filterwarnings(action=\"ignore\", module=\"scipy\", message=\"^internal gelsd\")"
   ]
  },
  {
   "cell_type": "markdown",
   "metadata": {},
   "source": [
    "### Loading the dataset"
   ]
  },
  {
   "cell_type": "code",
   "execution_count": 80,
   "metadata": {},
   "outputs": [
    {
     "data": {
      "text/html": [
       "<div>\n",
       "<style scoped>\n",
       "    .dataframe tbody tr th:only-of-type {\n",
       "        vertical-align: middle;\n",
       "    }\n",
       "\n",
       "    .dataframe tbody tr th {\n",
       "        vertical-align: top;\n",
       "    }\n",
       "\n",
       "    .dataframe thead th {\n",
       "        text-align: right;\n",
       "    }\n",
       "</style>\n",
       "<table border=\"1\" class=\"dataframe\">\n",
       "  <thead>\n",
       "    <tr style=\"text-align: right;\">\n",
       "      <th></th>\n",
       "      <th>X</th>\n",
       "      <th>Y</th>\n",
       "      <th>month</th>\n",
       "      <th>day</th>\n",
       "      <th>FFMC</th>\n",
       "      <th>DMC</th>\n",
       "      <th>DC</th>\n",
       "      <th>ISI</th>\n",
       "      <th>temp</th>\n",
       "      <th>RH</th>\n",
       "      <th>wind</th>\n",
       "      <th>rain</th>\n",
       "      <th>area</th>\n",
       "    </tr>\n",
       "  </thead>\n",
       "  <tbody>\n",
       "    <tr>\n",
       "      <th>0</th>\n",
       "      <td>7</td>\n",
       "      <td>5</td>\n",
       "      <td>mar</td>\n",
       "      <td>fri</td>\n",
       "      <td>86.2</td>\n",
       "      <td>26.2</td>\n",
       "      <td>94.3</td>\n",
       "      <td>5.1</td>\n",
       "      <td>8.2</td>\n",
       "      <td>51</td>\n",
       "      <td>6.7</td>\n",
       "      <td>0.0</td>\n",
       "      <td>0.00</td>\n",
       "    </tr>\n",
       "    <tr>\n",
       "      <th>1</th>\n",
       "      <td>7</td>\n",
       "      <td>4</td>\n",
       "      <td>oct</td>\n",
       "      <td>tue</td>\n",
       "      <td>90.6</td>\n",
       "      <td>35.4</td>\n",
       "      <td>669.1</td>\n",
       "      <td>6.7</td>\n",
       "      <td>18.0</td>\n",
       "      <td>33</td>\n",
       "      <td>0.9</td>\n",
       "      <td>0.0</td>\n",
       "      <td>0.00</td>\n",
       "    </tr>\n",
       "    <tr>\n",
       "      <th>2</th>\n",
       "      <td>7</td>\n",
       "      <td>4</td>\n",
       "      <td>oct</td>\n",
       "      <td>sat</td>\n",
       "      <td>90.6</td>\n",
       "      <td>43.7</td>\n",
       "      <td>686.9</td>\n",
       "      <td>6.7</td>\n",
       "      <td>14.6</td>\n",
       "      <td>33</td>\n",
       "      <td>1.3</td>\n",
       "      <td>0.0</td>\n",
       "      <td>0.00</td>\n",
       "    </tr>\n",
       "    <tr>\n",
       "      <th>3</th>\n",
       "      <td>8</td>\n",
       "      <td>6</td>\n",
       "      <td>mar</td>\n",
       "      <td>fri</td>\n",
       "      <td>91.7</td>\n",
       "      <td>33.3</td>\n",
       "      <td>77.5</td>\n",
       "      <td>9.0</td>\n",
       "      <td>8.3</td>\n",
       "      <td>97</td>\n",
       "      <td>4.0</td>\n",
       "      <td>0.2</td>\n",
       "      <td>0.00</td>\n",
       "    </tr>\n",
       "    <tr>\n",
       "      <th>4</th>\n",
       "      <td>8</td>\n",
       "      <td>6</td>\n",
       "      <td>mar</td>\n",
       "      <td>sun</td>\n",
       "      <td>89.3</td>\n",
       "      <td>51.3</td>\n",
       "      <td>102.2</td>\n",
       "      <td>9.6</td>\n",
       "      <td>11.4</td>\n",
       "      <td>99</td>\n",
       "      <td>1.8</td>\n",
       "      <td>0.0</td>\n",
       "      <td>0.00</td>\n",
       "    </tr>\n",
       "    <tr>\n",
       "      <th>5</th>\n",
       "      <td>8</td>\n",
       "      <td>6</td>\n",
       "      <td>aug</td>\n",
       "      <td>sun</td>\n",
       "      <td>92.3</td>\n",
       "      <td>85.3</td>\n",
       "      <td>488.0</td>\n",
       "      <td>14.7</td>\n",
       "      <td>22.2</td>\n",
       "      <td>29</td>\n",
       "      <td>5.4</td>\n",
       "      <td>0.0</td>\n",
       "      <td>0.00</td>\n",
       "    </tr>\n",
       "    <tr>\n",
       "      <th>6</th>\n",
       "      <td>8</td>\n",
       "      <td>6</td>\n",
       "      <td>aug</td>\n",
       "      <td>mon</td>\n",
       "      <td>92.3</td>\n",
       "      <td>88.9</td>\n",
       "      <td>495.6</td>\n",
       "      <td>8.5</td>\n",
       "      <td>24.1</td>\n",
       "      <td>27</td>\n",
       "      <td>3.1</td>\n",
       "      <td>0.0</td>\n",
       "      <td>0.00</td>\n",
       "    </tr>\n",
       "    <tr>\n",
       "      <th>7</th>\n",
       "      <td>8</td>\n",
       "      <td>6</td>\n",
       "      <td>aug</td>\n",
       "      <td>mon</td>\n",
       "      <td>91.5</td>\n",
       "      <td>145.4</td>\n",
       "      <td>608.2</td>\n",
       "      <td>10.7</td>\n",
       "      <td>8.0</td>\n",
       "      <td>86</td>\n",
       "      <td>2.2</td>\n",
       "      <td>0.0</td>\n",
       "      <td>0.00</td>\n",
       "    </tr>\n",
       "    <tr>\n",
       "      <th>8</th>\n",
       "      <td>8</td>\n",
       "      <td>6</td>\n",
       "      <td>sep</td>\n",
       "      <td>tue</td>\n",
       "      <td>91.0</td>\n",
       "      <td>129.5</td>\n",
       "      <td>692.6</td>\n",
       "      <td>7.0</td>\n",
       "      <td>13.1</td>\n",
       "      <td>63</td>\n",
       "      <td>5.4</td>\n",
       "      <td>0.0</td>\n",
       "      <td>0.00</td>\n",
       "    </tr>\n",
       "    <tr>\n",
       "      <th>9</th>\n",
       "      <td>7</td>\n",
       "      <td>5</td>\n",
       "      <td>sep</td>\n",
       "      <td>sat</td>\n",
       "      <td>92.5</td>\n",
       "      <td>88.0</td>\n",
       "      <td>698.6</td>\n",
       "      <td>7.1</td>\n",
       "      <td>22.8</td>\n",
       "      <td>40</td>\n",
       "      <td>4.0</td>\n",
       "      <td>0.0</td>\n",
       "      <td>0.00</td>\n",
       "    </tr>\n",
       "    <tr>\n",
       "      <th>10</th>\n",
       "      <td>7</td>\n",
       "      <td>5</td>\n",
       "      <td>sep</td>\n",
       "      <td>sat</td>\n",
       "      <td>92.5</td>\n",
       "      <td>88.0</td>\n",
       "      <td>698.6</td>\n",
       "      <td>7.1</td>\n",
       "      <td>17.8</td>\n",
       "      <td>51</td>\n",
       "      <td>7.2</td>\n",
       "      <td>0.0</td>\n",
       "      <td>0.00</td>\n",
       "    </tr>\n",
       "    <tr>\n",
       "      <th>11</th>\n",
       "      <td>7</td>\n",
       "      <td>5</td>\n",
       "      <td>sep</td>\n",
       "      <td>sat</td>\n",
       "      <td>92.8</td>\n",
       "      <td>73.2</td>\n",
       "      <td>713.0</td>\n",
       "      <td>22.6</td>\n",
       "      <td>19.3</td>\n",
       "      <td>38</td>\n",
       "      <td>4.0</td>\n",
       "      <td>0.0</td>\n",
       "      <td>0.00</td>\n",
       "    </tr>\n",
       "    <tr>\n",
       "      <th>12</th>\n",
       "      <td>6</td>\n",
       "      <td>5</td>\n",
       "      <td>aug</td>\n",
       "      <td>fri</td>\n",
       "      <td>63.5</td>\n",
       "      <td>70.8</td>\n",
       "      <td>665.3</td>\n",
       "      <td>0.8</td>\n",
       "      <td>17.0</td>\n",
       "      <td>72</td>\n",
       "      <td>6.7</td>\n",
       "      <td>0.0</td>\n",
       "      <td>0.00</td>\n",
       "    </tr>\n",
       "    <tr>\n",
       "      <th>13</th>\n",
       "      <td>6</td>\n",
       "      <td>5</td>\n",
       "      <td>sep</td>\n",
       "      <td>mon</td>\n",
       "      <td>90.9</td>\n",
       "      <td>126.5</td>\n",
       "      <td>686.5</td>\n",
       "      <td>7.0</td>\n",
       "      <td>21.3</td>\n",
       "      <td>42</td>\n",
       "      <td>2.2</td>\n",
       "      <td>0.0</td>\n",
       "      <td>0.00</td>\n",
       "    </tr>\n",
       "    <tr>\n",
       "      <th>14</th>\n",
       "      <td>6</td>\n",
       "      <td>5</td>\n",
       "      <td>sep</td>\n",
       "      <td>wed</td>\n",
       "      <td>92.9</td>\n",
       "      <td>133.3</td>\n",
       "      <td>699.6</td>\n",
       "      <td>9.2</td>\n",
       "      <td>26.4</td>\n",
       "      <td>21</td>\n",
       "      <td>4.5</td>\n",
       "      <td>0.0</td>\n",
       "      <td>0.00</td>\n",
       "    </tr>\n",
       "    <tr>\n",
       "      <th>15</th>\n",
       "      <td>6</td>\n",
       "      <td>5</td>\n",
       "      <td>sep</td>\n",
       "      <td>fri</td>\n",
       "      <td>93.3</td>\n",
       "      <td>141.2</td>\n",
       "      <td>713.9</td>\n",
       "      <td>13.9</td>\n",
       "      <td>22.9</td>\n",
       "      <td>44</td>\n",
       "      <td>5.4</td>\n",
       "      <td>0.0</td>\n",
       "      <td>0.00</td>\n",
       "    </tr>\n",
       "    <tr>\n",
       "      <th>16</th>\n",
       "      <td>5</td>\n",
       "      <td>5</td>\n",
       "      <td>mar</td>\n",
       "      <td>sat</td>\n",
       "      <td>91.7</td>\n",
       "      <td>35.8</td>\n",
       "      <td>80.8</td>\n",
       "      <td>7.8</td>\n",
       "      <td>15.1</td>\n",
       "      <td>27</td>\n",
       "      <td>5.4</td>\n",
       "      <td>0.0</td>\n",
       "      <td>0.00</td>\n",
       "    </tr>\n",
       "    <tr>\n",
       "      <th>17</th>\n",
       "      <td>8</td>\n",
       "      <td>5</td>\n",
       "      <td>oct</td>\n",
       "      <td>mon</td>\n",
       "      <td>84.9</td>\n",
       "      <td>32.8</td>\n",
       "      <td>664.2</td>\n",
       "      <td>3.0</td>\n",
       "      <td>16.7</td>\n",
       "      <td>47</td>\n",
       "      <td>4.9</td>\n",
       "      <td>0.0</td>\n",
       "      <td>0.00</td>\n",
       "    </tr>\n",
       "    <tr>\n",
       "      <th>18</th>\n",
       "      <td>6</td>\n",
       "      <td>4</td>\n",
       "      <td>mar</td>\n",
       "      <td>wed</td>\n",
       "      <td>89.2</td>\n",
       "      <td>27.9</td>\n",
       "      <td>70.8</td>\n",
       "      <td>6.3</td>\n",
       "      <td>15.9</td>\n",
       "      <td>35</td>\n",
       "      <td>4.0</td>\n",
       "      <td>0.0</td>\n",
       "      <td>0.00</td>\n",
       "    </tr>\n",
       "    <tr>\n",
       "      <th>19</th>\n",
       "      <td>6</td>\n",
       "      <td>4</td>\n",
       "      <td>apr</td>\n",
       "      <td>sat</td>\n",
       "      <td>86.3</td>\n",
       "      <td>27.4</td>\n",
       "      <td>97.1</td>\n",
       "      <td>5.1</td>\n",
       "      <td>9.3</td>\n",
       "      <td>44</td>\n",
       "      <td>4.5</td>\n",
       "      <td>0.0</td>\n",
       "      <td>0.00</td>\n",
       "    </tr>\n",
       "    <tr>\n",
       "      <th>20</th>\n",
       "      <td>6</td>\n",
       "      <td>4</td>\n",
       "      <td>sep</td>\n",
       "      <td>tue</td>\n",
       "      <td>91.0</td>\n",
       "      <td>129.5</td>\n",
       "      <td>692.6</td>\n",
       "      <td>7.0</td>\n",
       "      <td>18.3</td>\n",
       "      <td>40</td>\n",
       "      <td>2.7</td>\n",
       "      <td>0.0</td>\n",
       "      <td>0.00</td>\n",
       "    </tr>\n",
       "    <tr>\n",
       "      <th>21</th>\n",
       "      <td>5</td>\n",
       "      <td>4</td>\n",
       "      <td>sep</td>\n",
       "      <td>mon</td>\n",
       "      <td>91.8</td>\n",
       "      <td>78.5</td>\n",
       "      <td>724.3</td>\n",
       "      <td>9.2</td>\n",
       "      <td>19.1</td>\n",
       "      <td>38</td>\n",
       "      <td>2.7</td>\n",
       "      <td>0.0</td>\n",
       "      <td>0.00</td>\n",
       "    </tr>\n",
       "    <tr>\n",
       "      <th>22</th>\n",
       "      <td>7</td>\n",
       "      <td>4</td>\n",
       "      <td>jun</td>\n",
       "      <td>sun</td>\n",
       "      <td>94.3</td>\n",
       "      <td>96.3</td>\n",
       "      <td>200.0</td>\n",
       "      <td>56.1</td>\n",
       "      <td>21.0</td>\n",
       "      <td>44</td>\n",
       "      <td>4.5</td>\n",
       "      <td>0.0</td>\n",
       "      <td>0.00</td>\n",
       "    </tr>\n",
       "    <tr>\n",
       "      <th>23</th>\n",
       "      <td>7</td>\n",
       "      <td>4</td>\n",
       "      <td>aug</td>\n",
       "      <td>sat</td>\n",
       "      <td>90.2</td>\n",
       "      <td>110.9</td>\n",
       "      <td>537.4</td>\n",
       "      <td>6.2</td>\n",
       "      <td>19.5</td>\n",
       "      <td>43</td>\n",
       "      <td>5.8</td>\n",
       "      <td>0.0</td>\n",
       "      <td>0.00</td>\n",
       "    </tr>\n",
       "    <tr>\n",
       "      <th>24</th>\n",
       "      <td>7</td>\n",
       "      <td>4</td>\n",
       "      <td>aug</td>\n",
       "      <td>sat</td>\n",
       "      <td>93.5</td>\n",
       "      <td>139.4</td>\n",
       "      <td>594.2</td>\n",
       "      <td>20.3</td>\n",
       "      <td>23.7</td>\n",
       "      <td>32</td>\n",
       "      <td>5.8</td>\n",
       "      <td>0.0</td>\n",
       "      <td>0.00</td>\n",
       "    </tr>\n",
       "    <tr>\n",
       "      <th>25</th>\n",
       "      <td>7</td>\n",
       "      <td>4</td>\n",
       "      <td>aug</td>\n",
       "      <td>sun</td>\n",
       "      <td>91.4</td>\n",
       "      <td>142.4</td>\n",
       "      <td>601.4</td>\n",
       "      <td>10.6</td>\n",
       "      <td>16.3</td>\n",
       "      <td>60</td>\n",
       "      <td>5.4</td>\n",
       "      <td>0.0</td>\n",
       "      <td>0.00</td>\n",
       "    </tr>\n",
       "    <tr>\n",
       "      <th>26</th>\n",
       "      <td>7</td>\n",
       "      <td>4</td>\n",
       "      <td>sep</td>\n",
       "      <td>fri</td>\n",
       "      <td>92.4</td>\n",
       "      <td>117.9</td>\n",
       "      <td>668.0</td>\n",
       "      <td>12.2</td>\n",
       "      <td>19.0</td>\n",
       "      <td>34</td>\n",
       "      <td>5.8</td>\n",
       "      <td>0.0</td>\n",
       "      <td>0.00</td>\n",
       "    </tr>\n",
       "    <tr>\n",
       "      <th>27</th>\n",
       "      <td>7</td>\n",
       "      <td>4</td>\n",
       "      <td>sep</td>\n",
       "      <td>mon</td>\n",
       "      <td>90.9</td>\n",
       "      <td>126.5</td>\n",
       "      <td>686.5</td>\n",
       "      <td>7.0</td>\n",
       "      <td>19.4</td>\n",
       "      <td>48</td>\n",
       "      <td>1.3</td>\n",
       "      <td>0.0</td>\n",
       "      <td>0.00</td>\n",
       "    </tr>\n",
       "    <tr>\n",
       "      <th>28</th>\n",
       "      <td>6</td>\n",
       "      <td>3</td>\n",
       "      <td>sep</td>\n",
       "      <td>sat</td>\n",
       "      <td>93.4</td>\n",
       "      <td>145.4</td>\n",
       "      <td>721.4</td>\n",
       "      <td>8.1</td>\n",
       "      <td>30.2</td>\n",
       "      <td>24</td>\n",
       "      <td>2.7</td>\n",
       "      <td>0.0</td>\n",
       "      <td>0.00</td>\n",
       "    </tr>\n",
       "    <tr>\n",
       "      <th>29</th>\n",
       "      <td>6</td>\n",
       "      <td>3</td>\n",
       "      <td>sep</td>\n",
       "      <td>sun</td>\n",
       "      <td>93.5</td>\n",
       "      <td>149.3</td>\n",
       "      <td>728.6</td>\n",
       "      <td>8.1</td>\n",
       "      <td>22.8</td>\n",
       "      <td>39</td>\n",
       "      <td>3.6</td>\n",
       "      <td>0.0</td>\n",
       "      <td>0.00</td>\n",
       "    </tr>\n",
       "    <tr>\n",
       "      <th>...</th>\n",
       "      <td>...</td>\n",
       "      <td>...</td>\n",
       "      <td>...</td>\n",
       "      <td>...</td>\n",
       "      <td>...</td>\n",
       "      <td>...</td>\n",
       "      <td>...</td>\n",
       "      <td>...</td>\n",
       "      <td>...</td>\n",
       "      <td>...</td>\n",
       "      <td>...</td>\n",
       "      <td>...</td>\n",
       "      <td>...</td>\n",
       "    </tr>\n",
       "    <tr>\n",
       "      <th>487</th>\n",
       "      <td>5</td>\n",
       "      <td>4</td>\n",
       "      <td>aug</td>\n",
       "      <td>tue</td>\n",
       "      <td>95.1</td>\n",
       "      <td>141.3</td>\n",
       "      <td>605.8</td>\n",
       "      <td>17.7</td>\n",
       "      <td>26.4</td>\n",
       "      <td>34</td>\n",
       "      <td>3.6</td>\n",
       "      <td>0.0</td>\n",
       "      <td>16.40</td>\n",
       "    </tr>\n",
       "    <tr>\n",
       "      <th>488</th>\n",
       "      <td>4</td>\n",
       "      <td>4</td>\n",
       "      <td>aug</td>\n",
       "      <td>tue</td>\n",
       "      <td>95.1</td>\n",
       "      <td>141.3</td>\n",
       "      <td>605.8</td>\n",
       "      <td>17.7</td>\n",
       "      <td>19.4</td>\n",
       "      <td>71</td>\n",
       "      <td>7.6</td>\n",
       "      <td>0.0</td>\n",
       "      <td>46.70</td>\n",
       "    </tr>\n",
       "    <tr>\n",
       "      <th>489</th>\n",
       "      <td>4</td>\n",
       "      <td>4</td>\n",
       "      <td>aug</td>\n",
       "      <td>wed</td>\n",
       "      <td>95.1</td>\n",
       "      <td>141.3</td>\n",
       "      <td>605.8</td>\n",
       "      <td>17.7</td>\n",
       "      <td>20.6</td>\n",
       "      <td>58</td>\n",
       "      <td>1.3</td>\n",
       "      <td>0.0</td>\n",
       "      <td>0.00</td>\n",
       "    </tr>\n",
       "    <tr>\n",
       "      <th>490</th>\n",
       "      <td>4</td>\n",
       "      <td>4</td>\n",
       "      <td>aug</td>\n",
       "      <td>wed</td>\n",
       "      <td>95.1</td>\n",
       "      <td>141.3</td>\n",
       "      <td>605.8</td>\n",
       "      <td>17.7</td>\n",
       "      <td>28.7</td>\n",
       "      <td>33</td>\n",
       "      <td>4.0</td>\n",
       "      <td>0.0</td>\n",
       "      <td>0.00</td>\n",
       "    </tr>\n",
       "    <tr>\n",
       "      <th>491</th>\n",
       "      <td>4</td>\n",
       "      <td>4</td>\n",
       "      <td>aug</td>\n",
       "      <td>thu</td>\n",
       "      <td>95.8</td>\n",
       "      <td>152.0</td>\n",
       "      <td>624.1</td>\n",
       "      <td>13.8</td>\n",
       "      <td>32.4</td>\n",
       "      <td>21</td>\n",
       "      <td>4.5</td>\n",
       "      <td>0.0</td>\n",
       "      <td>0.00</td>\n",
       "    </tr>\n",
       "    <tr>\n",
       "      <th>492</th>\n",
       "      <td>1</td>\n",
       "      <td>3</td>\n",
       "      <td>aug</td>\n",
       "      <td>fri</td>\n",
       "      <td>95.9</td>\n",
       "      <td>158.0</td>\n",
       "      <td>633.6</td>\n",
       "      <td>11.3</td>\n",
       "      <td>32.4</td>\n",
       "      <td>27</td>\n",
       "      <td>2.2</td>\n",
       "      <td>0.0</td>\n",
       "      <td>0.00</td>\n",
       "    </tr>\n",
       "    <tr>\n",
       "      <th>493</th>\n",
       "      <td>1</td>\n",
       "      <td>3</td>\n",
       "      <td>aug</td>\n",
       "      <td>fri</td>\n",
       "      <td>95.9</td>\n",
       "      <td>158.0</td>\n",
       "      <td>633.6</td>\n",
       "      <td>11.3</td>\n",
       "      <td>27.5</td>\n",
       "      <td>29</td>\n",
       "      <td>4.5</td>\n",
       "      <td>0.0</td>\n",
       "      <td>43.32</td>\n",
       "    </tr>\n",
       "    <tr>\n",
       "      <th>494</th>\n",
       "      <td>6</td>\n",
       "      <td>6</td>\n",
       "      <td>aug</td>\n",
       "      <td>sat</td>\n",
       "      <td>96.0</td>\n",
       "      <td>164.0</td>\n",
       "      <td>643.0</td>\n",
       "      <td>14.0</td>\n",
       "      <td>30.8</td>\n",
       "      <td>30</td>\n",
       "      <td>4.9</td>\n",
       "      <td>0.0</td>\n",
       "      <td>8.59</td>\n",
       "    </tr>\n",
       "    <tr>\n",
       "      <th>495</th>\n",
       "      <td>6</td>\n",
       "      <td>6</td>\n",
       "      <td>aug</td>\n",
       "      <td>mon</td>\n",
       "      <td>96.2</td>\n",
       "      <td>175.5</td>\n",
       "      <td>661.8</td>\n",
       "      <td>16.8</td>\n",
       "      <td>23.9</td>\n",
       "      <td>42</td>\n",
       "      <td>2.2</td>\n",
       "      <td>0.0</td>\n",
       "      <td>0.00</td>\n",
       "    </tr>\n",
       "    <tr>\n",
       "      <th>496</th>\n",
       "      <td>4</td>\n",
       "      <td>5</td>\n",
       "      <td>aug</td>\n",
       "      <td>mon</td>\n",
       "      <td>96.2</td>\n",
       "      <td>175.5</td>\n",
       "      <td>661.8</td>\n",
       "      <td>16.8</td>\n",
       "      <td>32.6</td>\n",
       "      <td>26</td>\n",
       "      <td>3.1</td>\n",
       "      <td>0.0</td>\n",
       "      <td>2.77</td>\n",
       "    </tr>\n",
       "    <tr>\n",
       "      <th>497</th>\n",
       "      <td>3</td>\n",
       "      <td>4</td>\n",
       "      <td>aug</td>\n",
       "      <td>tue</td>\n",
       "      <td>96.1</td>\n",
       "      <td>181.1</td>\n",
       "      <td>671.2</td>\n",
       "      <td>14.3</td>\n",
       "      <td>32.3</td>\n",
       "      <td>27</td>\n",
       "      <td>2.2</td>\n",
       "      <td>0.0</td>\n",
       "      <td>14.68</td>\n",
       "    </tr>\n",
       "    <tr>\n",
       "      <th>498</th>\n",
       "      <td>6</td>\n",
       "      <td>5</td>\n",
       "      <td>aug</td>\n",
       "      <td>tue</td>\n",
       "      <td>96.1</td>\n",
       "      <td>181.1</td>\n",
       "      <td>671.2</td>\n",
       "      <td>14.3</td>\n",
       "      <td>33.3</td>\n",
       "      <td>26</td>\n",
       "      <td>2.7</td>\n",
       "      <td>0.0</td>\n",
       "      <td>40.54</td>\n",
       "    </tr>\n",
       "    <tr>\n",
       "      <th>499</th>\n",
       "      <td>7</td>\n",
       "      <td>5</td>\n",
       "      <td>aug</td>\n",
       "      <td>tue</td>\n",
       "      <td>96.1</td>\n",
       "      <td>181.1</td>\n",
       "      <td>671.2</td>\n",
       "      <td>14.3</td>\n",
       "      <td>27.3</td>\n",
       "      <td>63</td>\n",
       "      <td>4.9</td>\n",
       "      <td>6.4</td>\n",
       "      <td>10.82</td>\n",
       "    </tr>\n",
       "    <tr>\n",
       "      <th>500</th>\n",
       "      <td>8</td>\n",
       "      <td>6</td>\n",
       "      <td>aug</td>\n",
       "      <td>tue</td>\n",
       "      <td>96.1</td>\n",
       "      <td>181.1</td>\n",
       "      <td>671.2</td>\n",
       "      <td>14.3</td>\n",
       "      <td>21.6</td>\n",
       "      <td>65</td>\n",
       "      <td>4.9</td>\n",
       "      <td>0.8</td>\n",
       "      <td>0.00</td>\n",
       "    </tr>\n",
       "    <tr>\n",
       "      <th>501</th>\n",
       "      <td>7</td>\n",
       "      <td>5</td>\n",
       "      <td>aug</td>\n",
       "      <td>tue</td>\n",
       "      <td>96.1</td>\n",
       "      <td>181.1</td>\n",
       "      <td>671.2</td>\n",
       "      <td>14.3</td>\n",
       "      <td>21.6</td>\n",
       "      <td>65</td>\n",
       "      <td>4.9</td>\n",
       "      <td>0.8</td>\n",
       "      <td>0.00</td>\n",
       "    </tr>\n",
       "    <tr>\n",
       "      <th>502</th>\n",
       "      <td>4</td>\n",
       "      <td>4</td>\n",
       "      <td>aug</td>\n",
       "      <td>tue</td>\n",
       "      <td>96.1</td>\n",
       "      <td>181.1</td>\n",
       "      <td>671.2</td>\n",
       "      <td>14.3</td>\n",
       "      <td>20.7</td>\n",
       "      <td>69</td>\n",
       "      <td>4.9</td>\n",
       "      <td>0.4</td>\n",
       "      <td>0.00</td>\n",
       "    </tr>\n",
       "    <tr>\n",
       "      <th>503</th>\n",
       "      <td>2</td>\n",
       "      <td>4</td>\n",
       "      <td>aug</td>\n",
       "      <td>wed</td>\n",
       "      <td>94.5</td>\n",
       "      <td>139.4</td>\n",
       "      <td>689.1</td>\n",
       "      <td>20.0</td>\n",
       "      <td>29.2</td>\n",
       "      <td>30</td>\n",
       "      <td>4.9</td>\n",
       "      <td>0.0</td>\n",
       "      <td>1.95</td>\n",
       "    </tr>\n",
       "    <tr>\n",
       "      <th>504</th>\n",
       "      <td>4</td>\n",
       "      <td>3</td>\n",
       "      <td>aug</td>\n",
       "      <td>wed</td>\n",
       "      <td>94.5</td>\n",
       "      <td>139.4</td>\n",
       "      <td>689.1</td>\n",
       "      <td>20.0</td>\n",
       "      <td>28.9</td>\n",
       "      <td>29</td>\n",
       "      <td>4.9</td>\n",
       "      <td>0.0</td>\n",
       "      <td>49.59</td>\n",
       "    </tr>\n",
       "    <tr>\n",
       "      <th>505</th>\n",
       "      <td>1</td>\n",
       "      <td>2</td>\n",
       "      <td>aug</td>\n",
       "      <td>thu</td>\n",
       "      <td>91.0</td>\n",
       "      <td>163.2</td>\n",
       "      <td>744.4</td>\n",
       "      <td>10.1</td>\n",
       "      <td>26.7</td>\n",
       "      <td>35</td>\n",
       "      <td>1.8</td>\n",
       "      <td>0.0</td>\n",
       "      <td>5.80</td>\n",
       "    </tr>\n",
       "    <tr>\n",
       "      <th>506</th>\n",
       "      <td>1</td>\n",
       "      <td>2</td>\n",
       "      <td>aug</td>\n",
       "      <td>fri</td>\n",
       "      <td>91.0</td>\n",
       "      <td>166.9</td>\n",
       "      <td>752.6</td>\n",
       "      <td>7.1</td>\n",
       "      <td>18.5</td>\n",
       "      <td>73</td>\n",
       "      <td>8.5</td>\n",
       "      <td>0.0</td>\n",
       "      <td>0.00</td>\n",
       "    </tr>\n",
       "    <tr>\n",
       "      <th>507</th>\n",
       "      <td>2</td>\n",
       "      <td>4</td>\n",
       "      <td>aug</td>\n",
       "      <td>fri</td>\n",
       "      <td>91.0</td>\n",
       "      <td>166.9</td>\n",
       "      <td>752.6</td>\n",
       "      <td>7.1</td>\n",
       "      <td>25.9</td>\n",
       "      <td>41</td>\n",
       "      <td>3.6</td>\n",
       "      <td>0.0</td>\n",
       "      <td>0.00</td>\n",
       "    </tr>\n",
       "    <tr>\n",
       "      <th>508</th>\n",
       "      <td>1</td>\n",
       "      <td>2</td>\n",
       "      <td>aug</td>\n",
       "      <td>fri</td>\n",
       "      <td>91.0</td>\n",
       "      <td>166.9</td>\n",
       "      <td>752.6</td>\n",
       "      <td>7.1</td>\n",
       "      <td>25.9</td>\n",
       "      <td>41</td>\n",
       "      <td>3.6</td>\n",
       "      <td>0.0</td>\n",
       "      <td>0.00</td>\n",
       "    </tr>\n",
       "    <tr>\n",
       "      <th>509</th>\n",
       "      <td>5</td>\n",
       "      <td>4</td>\n",
       "      <td>aug</td>\n",
       "      <td>fri</td>\n",
       "      <td>91.0</td>\n",
       "      <td>166.9</td>\n",
       "      <td>752.6</td>\n",
       "      <td>7.1</td>\n",
       "      <td>21.1</td>\n",
       "      <td>71</td>\n",
       "      <td>7.6</td>\n",
       "      <td>1.4</td>\n",
       "      <td>2.17</td>\n",
       "    </tr>\n",
       "    <tr>\n",
       "      <th>510</th>\n",
       "      <td>6</td>\n",
       "      <td>5</td>\n",
       "      <td>aug</td>\n",
       "      <td>fri</td>\n",
       "      <td>91.0</td>\n",
       "      <td>166.9</td>\n",
       "      <td>752.6</td>\n",
       "      <td>7.1</td>\n",
       "      <td>18.2</td>\n",
       "      <td>62</td>\n",
       "      <td>5.4</td>\n",
       "      <td>0.0</td>\n",
       "      <td>0.43</td>\n",
       "    </tr>\n",
       "    <tr>\n",
       "      <th>511</th>\n",
       "      <td>8</td>\n",
       "      <td>6</td>\n",
       "      <td>aug</td>\n",
       "      <td>sun</td>\n",
       "      <td>81.6</td>\n",
       "      <td>56.7</td>\n",
       "      <td>665.6</td>\n",
       "      <td>1.9</td>\n",
       "      <td>27.8</td>\n",
       "      <td>35</td>\n",
       "      <td>2.7</td>\n",
       "      <td>0.0</td>\n",
       "      <td>0.00</td>\n",
       "    </tr>\n",
       "    <tr>\n",
       "      <th>512</th>\n",
       "      <td>4</td>\n",
       "      <td>3</td>\n",
       "      <td>aug</td>\n",
       "      <td>sun</td>\n",
       "      <td>81.6</td>\n",
       "      <td>56.7</td>\n",
       "      <td>665.6</td>\n",
       "      <td>1.9</td>\n",
       "      <td>27.8</td>\n",
       "      <td>32</td>\n",
       "      <td>2.7</td>\n",
       "      <td>0.0</td>\n",
       "      <td>6.44</td>\n",
       "    </tr>\n",
       "    <tr>\n",
       "      <th>513</th>\n",
       "      <td>2</td>\n",
       "      <td>4</td>\n",
       "      <td>aug</td>\n",
       "      <td>sun</td>\n",
       "      <td>81.6</td>\n",
       "      <td>56.7</td>\n",
       "      <td>665.6</td>\n",
       "      <td>1.9</td>\n",
       "      <td>21.9</td>\n",
       "      <td>71</td>\n",
       "      <td>5.8</td>\n",
       "      <td>0.0</td>\n",
       "      <td>54.29</td>\n",
       "    </tr>\n",
       "    <tr>\n",
       "      <th>514</th>\n",
       "      <td>7</td>\n",
       "      <td>4</td>\n",
       "      <td>aug</td>\n",
       "      <td>sun</td>\n",
       "      <td>81.6</td>\n",
       "      <td>56.7</td>\n",
       "      <td>665.6</td>\n",
       "      <td>1.9</td>\n",
       "      <td>21.2</td>\n",
       "      <td>70</td>\n",
       "      <td>6.7</td>\n",
       "      <td>0.0</td>\n",
       "      <td>11.16</td>\n",
       "    </tr>\n",
       "    <tr>\n",
       "      <th>515</th>\n",
       "      <td>1</td>\n",
       "      <td>4</td>\n",
       "      <td>aug</td>\n",
       "      <td>sat</td>\n",
       "      <td>94.4</td>\n",
       "      <td>146.0</td>\n",
       "      <td>614.7</td>\n",
       "      <td>11.3</td>\n",
       "      <td>25.6</td>\n",
       "      <td>42</td>\n",
       "      <td>4.0</td>\n",
       "      <td>0.0</td>\n",
       "      <td>0.00</td>\n",
       "    </tr>\n",
       "    <tr>\n",
       "      <th>516</th>\n",
       "      <td>6</td>\n",
       "      <td>3</td>\n",
       "      <td>nov</td>\n",
       "      <td>tue</td>\n",
       "      <td>79.5</td>\n",
       "      <td>3.0</td>\n",
       "      <td>106.7</td>\n",
       "      <td>1.1</td>\n",
       "      <td>11.8</td>\n",
       "      <td>31</td>\n",
       "      <td>4.5</td>\n",
       "      <td>0.0</td>\n",
       "      <td>0.00</td>\n",
       "    </tr>\n",
       "  </tbody>\n",
       "</table>\n",
       "<p>517 rows × 13 columns</p>\n",
       "</div>"
      ],
      "text/plain": [
       "     X  Y month  day  FFMC    DMC     DC   ISI  temp  RH  wind  rain   area\n",
       "0    7  5   mar  fri  86.2   26.2   94.3   5.1   8.2  51   6.7   0.0   0.00\n",
       "1    7  4   oct  tue  90.6   35.4  669.1   6.7  18.0  33   0.9   0.0   0.00\n",
       "2    7  4   oct  sat  90.6   43.7  686.9   6.7  14.6  33   1.3   0.0   0.00\n",
       "3    8  6   mar  fri  91.7   33.3   77.5   9.0   8.3  97   4.0   0.2   0.00\n",
       "4    8  6   mar  sun  89.3   51.3  102.2   9.6  11.4  99   1.8   0.0   0.00\n",
       "5    8  6   aug  sun  92.3   85.3  488.0  14.7  22.2  29   5.4   0.0   0.00\n",
       "6    8  6   aug  mon  92.3   88.9  495.6   8.5  24.1  27   3.1   0.0   0.00\n",
       "7    8  6   aug  mon  91.5  145.4  608.2  10.7   8.0  86   2.2   0.0   0.00\n",
       "8    8  6   sep  tue  91.0  129.5  692.6   7.0  13.1  63   5.4   0.0   0.00\n",
       "9    7  5   sep  sat  92.5   88.0  698.6   7.1  22.8  40   4.0   0.0   0.00\n",
       "10   7  5   sep  sat  92.5   88.0  698.6   7.1  17.8  51   7.2   0.0   0.00\n",
       "11   7  5   sep  sat  92.8   73.2  713.0  22.6  19.3  38   4.0   0.0   0.00\n",
       "12   6  5   aug  fri  63.5   70.8  665.3   0.8  17.0  72   6.7   0.0   0.00\n",
       "13   6  5   sep  mon  90.9  126.5  686.5   7.0  21.3  42   2.2   0.0   0.00\n",
       "14   6  5   sep  wed  92.9  133.3  699.6   9.2  26.4  21   4.5   0.0   0.00\n",
       "15   6  5   sep  fri  93.3  141.2  713.9  13.9  22.9  44   5.4   0.0   0.00\n",
       "16   5  5   mar  sat  91.7   35.8   80.8   7.8  15.1  27   5.4   0.0   0.00\n",
       "17   8  5   oct  mon  84.9   32.8  664.2   3.0  16.7  47   4.9   0.0   0.00\n",
       "18   6  4   mar  wed  89.2   27.9   70.8   6.3  15.9  35   4.0   0.0   0.00\n",
       "19   6  4   apr  sat  86.3   27.4   97.1   5.1   9.3  44   4.5   0.0   0.00\n",
       "20   6  4   sep  tue  91.0  129.5  692.6   7.0  18.3  40   2.7   0.0   0.00\n",
       "21   5  4   sep  mon  91.8   78.5  724.3   9.2  19.1  38   2.7   0.0   0.00\n",
       "22   7  4   jun  sun  94.3   96.3  200.0  56.1  21.0  44   4.5   0.0   0.00\n",
       "23   7  4   aug  sat  90.2  110.9  537.4   6.2  19.5  43   5.8   0.0   0.00\n",
       "24   7  4   aug  sat  93.5  139.4  594.2  20.3  23.7  32   5.8   0.0   0.00\n",
       "25   7  4   aug  sun  91.4  142.4  601.4  10.6  16.3  60   5.4   0.0   0.00\n",
       "26   7  4   sep  fri  92.4  117.9  668.0  12.2  19.0  34   5.8   0.0   0.00\n",
       "27   7  4   sep  mon  90.9  126.5  686.5   7.0  19.4  48   1.3   0.0   0.00\n",
       "28   6  3   sep  sat  93.4  145.4  721.4   8.1  30.2  24   2.7   0.0   0.00\n",
       "29   6  3   sep  sun  93.5  149.3  728.6   8.1  22.8  39   3.6   0.0   0.00\n",
       "..  .. ..   ...  ...   ...    ...    ...   ...   ...  ..   ...   ...    ...\n",
       "487  5  4   aug  tue  95.1  141.3  605.8  17.7  26.4  34   3.6   0.0  16.40\n",
       "488  4  4   aug  tue  95.1  141.3  605.8  17.7  19.4  71   7.6   0.0  46.70\n",
       "489  4  4   aug  wed  95.1  141.3  605.8  17.7  20.6  58   1.3   0.0   0.00\n",
       "490  4  4   aug  wed  95.1  141.3  605.8  17.7  28.7  33   4.0   0.0   0.00\n",
       "491  4  4   aug  thu  95.8  152.0  624.1  13.8  32.4  21   4.5   0.0   0.00\n",
       "492  1  3   aug  fri  95.9  158.0  633.6  11.3  32.4  27   2.2   0.0   0.00\n",
       "493  1  3   aug  fri  95.9  158.0  633.6  11.3  27.5  29   4.5   0.0  43.32\n",
       "494  6  6   aug  sat  96.0  164.0  643.0  14.0  30.8  30   4.9   0.0   8.59\n",
       "495  6  6   aug  mon  96.2  175.5  661.8  16.8  23.9  42   2.2   0.0   0.00\n",
       "496  4  5   aug  mon  96.2  175.5  661.8  16.8  32.6  26   3.1   0.0   2.77\n",
       "497  3  4   aug  tue  96.1  181.1  671.2  14.3  32.3  27   2.2   0.0  14.68\n",
       "498  6  5   aug  tue  96.1  181.1  671.2  14.3  33.3  26   2.7   0.0  40.54\n",
       "499  7  5   aug  tue  96.1  181.1  671.2  14.3  27.3  63   4.9   6.4  10.82\n",
       "500  8  6   aug  tue  96.1  181.1  671.2  14.3  21.6  65   4.9   0.8   0.00\n",
       "501  7  5   aug  tue  96.1  181.1  671.2  14.3  21.6  65   4.9   0.8   0.00\n",
       "502  4  4   aug  tue  96.1  181.1  671.2  14.3  20.7  69   4.9   0.4   0.00\n",
       "503  2  4   aug  wed  94.5  139.4  689.1  20.0  29.2  30   4.9   0.0   1.95\n",
       "504  4  3   aug  wed  94.5  139.4  689.1  20.0  28.9  29   4.9   0.0  49.59\n",
       "505  1  2   aug  thu  91.0  163.2  744.4  10.1  26.7  35   1.8   0.0   5.80\n",
       "506  1  2   aug  fri  91.0  166.9  752.6   7.1  18.5  73   8.5   0.0   0.00\n",
       "507  2  4   aug  fri  91.0  166.9  752.6   7.1  25.9  41   3.6   0.0   0.00\n",
       "508  1  2   aug  fri  91.0  166.9  752.6   7.1  25.9  41   3.6   0.0   0.00\n",
       "509  5  4   aug  fri  91.0  166.9  752.6   7.1  21.1  71   7.6   1.4   2.17\n",
       "510  6  5   aug  fri  91.0  166.9  752.6   7.1  18.2  62   5.4   0.0   0.43\n",
       "511  8  6   aug  sun  81.6   56.7  665.6   1.9  27.8  35   2.7   0.0   0.00\n",
       "512  4  3   aug  sun  81.6   56.7  665.6   1.9  27.8  32   2.7   0.0   6.44\n",
       "513  2  4   aug  sun  81.6   56.7  665.6   1.9  21.9  71   5.8   0.0  54.29\n",
       "514  7  4   aug  sun  81.6   56.7  665.6   1.9  21.2  70   6.7   0.0  11.16\n",
       "515  1  4   aug  sat  94.4  146.0  614.7  11.3  25.6  42   4.0   0.0   0.00\n",
       "516  6  3   nov  tue  79.5    3.0  106.7   1.1  11.8  31   4.5   0.0   0.00\n",
       "\n",
       "[517 rows x 13 columns]"
      ]
     },
     "execution_count": 80,
     "metadata": {},
     "output_type": "execute_result"
    }
   ],
   "source": [
    "forest_fires = pd.read_csv('forest_fires.csv')\n",
    "forest_fires"
   ]
  },
  {
   "cell_type": "markdown",
   "metadata": {},
   "source": [
    "### Converting the labels under month and day to integers"
   ]
  },
  {
   "cell_type": "code",
   "execution_count": 81,
   "metadata": {},
   "outputs": [],
   "source": [
    "forest_fires.month.replace(('jan','feb','mar','apr','may','jun','jul','aug','sep','oct','nov','dec'),(1,2,3,4,5,6,7,8,9,10,11,12), inplace=True)\n",
    "forest_fires.day.replace(('mon','tue','wed','thu','fri','sat','sun'),(1,2,3,4,5,6,7), inplace=True)"
   ]
  },
  {
   "cell_type": "markdown",
   "metadata": {},
   "source": [
    "### Statistical analysis of dataset"
   ]
  },
  {
   "cell_type": "code",
   "execution_count": 82,
   "metadata": {},
   "outputs": [
    {
     "data": {
      "text/html": [
       "<div>\n",
       "<style scoped>\n",
       "    .dataframe tbody tr th:only-of-type {\n",
       "        vertical-align: middle;\n",
       "    }\n",
       "\n",
       "    .dataframe tbody tr th {\n",
       "        vertical-align: top;\n",
       "    }\n",
       "\n",
       "    .dataframe thead th {\n",
       "        text-align: right;\n",
       "    }\n",
       "</style>\n",
       "<table border=\"1\" class=\"dataframe\">\n",
       "  <thead>\n",
       "    <tr style=\"text-align: right;\">\n",
       "      <th></th>\n",
       "      <th>X</th>\n",
       "      <th>Y</th>\n",
       "      <th>month</th>\n",
       "      <th>day</th>\n",
       "      <th>FFMC</th>\n",
       "      <th>DMC</th>\n",
       "      <th>DC</th>\n",
       "      <th>ISI</th>\n",
       "      <th>temp</th>\n",
       "      <th>RH</th>\n",
       "      <th>wind</th>\n",
       "      <th>rain</th>\n",
       "      <th>area</th>\n",
       "    </tr>\n",
       "  </thead>\n",
       "  <tbody>\n",
       "    <tr>\n",
       "      <th>count</th>\n",
       "      <td>517.000000</td>\n",
       "      <td>517.000000</td>\n",
       "      <td>517.000000</td>\n",
       "      <td>517.000000</td>\n",
       "      <td>517.000000</td>\n",
       "      <td>517.000000</td>\n",
       "      <td>517.000000</td>\n",
       "      <td>517.000000</td>\n",
       "      <td>517.000000</td>\n",
       "      <td>517.000000</td>\n",
       "      <td>517.000000</td>\n",
       "      <td>517.000000</td>\n",
       "      <td>517.000000</td>\n",
       "    </tr>\n",
       "    <tr>\n",
       "      <th>mean</th>\n",
       "      <td>4.669246</td>\n",
       "      <td>4.299807</td>\n",
       "      <td>7.475822</td>\n",
       "      <td>4.259188</td>\n",
       "      <td>90.644681</td>\n",
       "      <td>110.872340</td>\n",
       "      <td>547.940039</td>\n",
       "      <td>9.021663</td>\n",
       "      <td>18.889168</td>\n",
       "      <td>44.288201</td>\n",
       "      <td>4.017602</td>\n",
       "      <td>0.021663</td>\n",
       "      <td>12.847292</td>\n",
       "    </tr>\n",
       "    <tr>\n",
       "      <th>std</th>\n",
       "      <td>2.313778</td>\n",
       "      <td>1.229900</td>\n",
       "      <td>2.275990</td>\n",
       "      <td>2.072929</td>\n",
       "      <td>5.520111</td>\n",
       "      <td>64.046482</td>\n",
       "      <td>248.066192</td>\n",
       "      <td>4.559477</td>\n",
       "      <td>5.806625</td>\n",
       "      <td>16.317469</td>\n",
       "      <td>1.791653</td>\n",
       "      <td>0.295959</td>\n",
       "      <td>63.655818</td>\n",
       "    </tr>\n",
       "    <tr>\n",
       "      <th>min</th>\n",
       "      <td>1.000000</td>\n",
       "      <td>2.000000</td>\n",
       "      <td>1.000000</td>\n",
       "      <td>1.000000</td>\n",
       "      <td>18.700000</td>\n",
       "      <td>1.100000</td>\n",
       "      <td>7.900000</td>\n",
       "      <td>0.000000</td>\n",
       "      <td>2.200000</td>\n",
       "      <td>15.000000</td>\n",
       "      <td>0.400000</td>\n",
       "      <td>0.000000</td>\n",
       "      <td>0.000000</td>\n",
       "    </tr>\n",
       "    <tr>\n",
       "      <th>25%</th>\n",
       "      <td>3.000000</td>\n",
       "      <td>4.000000</td>\n",
       "      <td>7.000000</td>\n",
       "      <td>2.000000</td>\n",
       "      <td>90.200000</td>\n",
       "      <td>68.600000</td>\n",
       "      <td>437.700000</td>\n",
       "      <td>6.500000</td>\n",
       "      <td>15.500000</td>\n",
       "      <td>33.000000</td>\n",
       "      <td>2.700000</td>\n",
       "      <td>0.000000</td>\n",
       "      <td>0.000000</td>\n",
       "    </tr>\n",
       "    <tr>\n",
       "      <th>50%</th>\n",
       "      <td>4.000000</td>\n",
       "      <td>4.000000</td>\n",
       "      <td>8.000000</td>\n",
       "      <td>5.000000</td>\n",
       "      <td>91.600000</td>\n",
       "      <td>108.300000</td>\n",
       "      <td>664.200000</td>\n",
       "      <td>8.400000</td>\n",
       "      <td>19.300000</td>\n",
       "      <td>42.000000</td>\n",
       "      <td>4.000000</td>\n",
       "      <td>0.000000</td>\n",
       "      <td>0.520000</td>\n",
       "    </tr>\n",
       "    <tr>\n",
       "      <th>75%</th>\n",
       "      <td>7.000000</td>\n",
       "      <td>5.000000</td>\n",
       "      <td>9.000000</td>\n",
       "      <td>6.000000</td>\n",
       "      <td>92.900000</td>\n",
       "      <td>142.400000</td>\n",
       "      <td>713.900000</td>\n",
       "      <td>10.800000</td>\n",
       "      <td>22.800000</td>\n",
       "      <td>53.000000</td>\n",
       "      <td>4.900000</td>\n",
       "      <td>0.000000</td>\n",
       "      <td>6.570000</td>\n",
       "    </tr>\n",
       "    <tr>\n",
       "      <th>max</th>\n",
       "      <td>9.000000</td>\n",
       "      <td>9.000000</td>\n",
       "      <td>12.000000</td>\n",
       "      <td>7.000000</td>\n",
       "      <td>96.200000</td>\n",
       "      <td>291.300000</td>\n",
       "      <td>860.600000</td>\n",
       "      <td>56.100000</td>\n",
       "      <td>33.300000</td>\n",
       "      <td>100.000000</td>\n",
       "      <td>9.400000</td>\n",
       "      <td>6.400000</td>\n",
       "      <td>1090.840000</td>\n",
       "    </tr>\n",
       "  </tbody>\n",
       "</table>\n",
       "</div>"
      ],
      "text/plain": [
       "                X           Y       month         day        FFMC         DMC  \\\n",
       "count  517.000000  517.000000  517.000000  517.000000  517.000000  517.000000   \n",
       "mean     4.669246    4.299807    7.475822    4.259188   90.644681  110.872340   \n",
       "std      2.313778    1.229900    2.275990    2.072929    5.520111   64.046482   \n",
       "min      1.000000    2.000000    1.000000    1.000000   18.700000    1.100000   \n",
       "25%      3.000000    4.000000    7.000000    2.000000   90.200000   68.600000   \n",
       "50%      4.000000    4.000000    8.000000    5.000000   91.600000  108.300000   \n",
       "75%      7.000000    5.000000    9.000000    6.000000   92.900000  142.400000   \n",
       "max      9.000000    9.000000   12.000000    7.000000   96.200000  291.300000   \n",
       "\n",
       "               DC         ISI        temp          RH        wind        rain  \\\n",
       "count  517.000000  517.000000  517.000000  517.000000  517.000000  517.000000   \n",
       "mean   547.940039    9.021663   18.889168   44.288201    4.017602    0.021663   \n",
       "std    248.066192    4.559477    5.806625   16.317469    1.791653    0.295959   \n",
       "min      7.900000    0.000000    2.200000   15.000000    0.400000    0.000000   \n",
       "25%    437.700000    6.500000   15.500000   33.000000    2.700000    0.000000   \n",
       "50%    664.200000    8.400000   19.300000   42.000000    4.000000    0.000000   \n",
       "75%    713.900000   10.800000   22.800000   53.000000    4.900000    0.000000   \n",
       "max    860.600000   56.100000   33.300000  100.000000    9.400000    6.400000   \n",
       "\n",
       "              area  \n",
       "count   517.000000  \n",
       "mean     12.847292  \n",
       "std      63.655818  \n",
       "min       0.000000  \n",
       "25%       0.000000  \n",
       "50%       0.520000  \n",
       "75%       6.570000  \n",
       "max    1090.840000  "
      ]
     },
     "execution_count": 82,
     "metadata": {},
     "output_type": "execute_result"
    }
   ],
   "source": [
    "forest_fires.describe()"
   ]
  },
  {
   "cell_type": "markdown",
   "metadata": {},
   "source": [
    "### Corelation analysis for the dataset"
   ]
  },
  {
   "cell_type": "code",
   "execution_count": 83,
   "metadata": {},
   "outputs": [
    {
     "data": {
      "text/html": [
       "<div>\n",
       "<style scoped>\n",
       "    .dataframe tbody tr th:only-of-type {\n",
       "        vertical-align: middle;\n",
       "    }\n",
       "\n",
       "    .dataframe tbody tr th {\n",
       "        vertical-align: top;\n",
       "    }\n",
       "\n",
       "    .dataframe thead th {\n",
       "        text-align: right;\n",
       "    }\n",
       "</style>\n",
       "<table border=\"1\" class=\"dataframe\">\n",
       "  <thead>\n",
       "    <tr style=\"text-align: right;\">\n",
       "      <th></th>\n",
       "      <th>X</th>\n",
       "      <th>Y</th>\n",
       "      <th>month</th>\n",
       "      <th>day</th>\n",
       "      <th>FFMC</th>\n",
       "      <th>DMC</th>\n",
       "      <th>DC</th>\n",
       "      <th>ISI</th>\n",
       "      <th>temp</th>\n",
       "      <th>RH</th>\n",
       "      <th>wind</th>\n",
       "      <th>rain</th>\n",
       "      <th>area</th>\n",
       "    </tr>\n",
       "  </thead>\n",
       "  <tbody>\n",
       "    <tr>\n",
       "      <th>X</th>\n",
       "      <td>1.000000</td>\n",
       "      <td>0.539548</td>\n",
       "      <td>-0.065003</td>\n",
       "      <td>-0.024922</td>\n",
       "      <td>-0.021039</td>\n",
       "      <td>-0.048384</td>\n",
       "      <td>-0.085916</td>\n",
       "      <td>0.006210</td>\n",
       "      <td>-0.051258</td>\n",
       "      <td>0.085223</td>\n",
       "      <td>0.018798</td>\n",
       "      <td>0.065387</td>\n",
       "      <td>0.063385</td>\n",
       "    </tr>\n",
       "    <tr>\n",
       "      <th>Y</th>\n",
       "      <td>0.539548</td>\n",
       "      <td>1.000000</td>\n",
       "      <td>-0.066292</td>\n",
       "      <td>-0.005453</td>\n",
       "      <td>-0.046308</td>\n",
       "      <td>0.007782</td>\n",
       "      <td>-0.101178</td>\n",
       "      <td>-0.024488</td>\n",
       "      <td>-0.024103</td>\n",
       "      <td>0.062221</td>\n",
       "      <td>-0.020341</td>\n",
       "      <td>0.033234</td>\n",
       "      <td>0.044873</td>\n",
       "    </tr>\n",
       "    <tr>\n",
       "      <th>month</th>\n",
       "      <td>-0.065003</td>\n",
       "      <td>-0.066292</td>\n",
       "      <td>1.000000</td>\n",
       "      <td>-0.050837</td>\n",
       "      <td>0.291477</td>\n",
       "      <td>0.466645</td>\n",
       "      <td>0.868698</td>\n",
       "      <td>0.186597</td>\n",
       "      <td>0.368842</td>\n",
       "      <td>-0.095280</td>\n",
       "      <td>-0.086368</td>\n",
       "      <td>0.013438</td>\n",
       "      <td>0.056496</td>\n",
       "    </tr>\n",
       "    <tr>\n",
       "      <th>day</th>\n",
       "      <td>-0.024922</td>\n",
       "      <td>-0.005453</td>\n",
       "      <td>-0.050837</td>\n",
       "      <td>1.000000</td>\n",
       "      <td>-0.041068</td>\n",
       "      <td>0.062870</td>\n",
       "      <td>0.000105</td>\n",
       "      <td>0.032909</td>\n",
       "      <td>0.052190</td>\n",
       "      <td>0.092151</td>\n",
       "      <td>0.032478</td>\n",
       "      <td>-0.048340</td>\n",
       "      <td>0.023226</td>\n",
       "    </tr>\n",
       "    <tr>\n",
       "      <th>FFMC</th>\n",
       "      <td>-0.021039</td>\n",
       "      <td>-0.046308</td>\n",
       "      <td>0.291477</td>\n",
       "      <td>-0.041068</td>\n",
       "      <td>1.000000</td>\n",
       "      <td>0.382619</td>\n",
       "      <td>0.330512</td>\n",
       "      <td>0.531805</td>\n",
       "      <td>0.431532</td>\n",
       "      <td>-0.300995</td>\n",
       "      <td>-0.028485</td>\n",
       "      <td>0.056702</td>\n",
       "      <td>0.040122</td>\n",
       "    </tr>\n",
       "    <tr>\n",
       "      <th>DMC</th>\n",
       "      <td>-0.048384</td>\n",
       "      <td>0.007782</td>\n",
       "      <td>0.466645</td>\n",
       "      <td>0.062870</td>\n",
       "      <td>0.382619</td>\n",
       "      <td>1.000000</td>\n",
       "      <td>0.682192</td>\n",
       "      <td>0.305128</td>\n",
       "      <td>0.469594</td>\n",
       "      <td>0.073795</td>\n",
       "      <td>-0.105342</td>\n",
       "      <td>0.074790</td>\n",
       "      <td>0.072994</td>\n",
       "    </tr>\n",
       "    <tr>\n",
       "      <th>DC</th>\n",
       "      <td>-0.085916</td>\n",
       "      <td>-0.101178</td>\n",
       "      <td>0.868698</td>\n",
       "      <td>0.000105</td>\n",
       "      <td>0.330512</td>\n",
       "      <td>0.682192</td>\n",
       "      <td>1.000000</td>\n",
       "      <td>0.229154</td>\n",
       "      <td>0.496208</td>\n",
       "      <td>-0.039192</td>\n",
       "      <td>-0.203466</td>\n",
       "      <td>0.035861</td>\n",
       "      <td>0.049383</td>\n",
       "    </tr>\n",
       "    <tr>\n",
       "      <th>ISI</th>\n",
       "      <td>0.006210</td>\n",
       "      <td>-0.024488</td>\n",
       "      <td>0.186597</td>\n",
       "      <td>0.032909</td>\n",
       "      <td>0.531805</td>\n",
       "      <td>0.305128</td>\n",
       "      <td>0.229154</td>\n",
       "      <td>1.000000</td>\n",
       "      <td>0.394287</td>\n",
       "      <td>-0.132517</td>\n",
       "      <td>0.106826</td>\n",
       "      <td>0.067668</td>\n",
       "      <td>0.008258</td>\n",
       "    </tr>\n",
       "    <tr>\n",
       "      <th>temp</th>\n",
       "      <td>-0.051258</td>\n",
       "      <td>-0.024103</td>\n",
       "      <td>0.368842</td>\n",
       "      <td>0.052190</td>\n",
       "      <td>0.431532</td>\n",
       "      <td>0.469594</td>\n",
       "      <td>0.496208</td>\n",
       "      <td>0.394287</td>\n",
       "      <td>1.000000</td>\n",
       "      <td>-0.527390</td>\n",
       "      <td>-0.227116</td>\n",
       "      <td>0.069491</td>\n",
       "      <td>0.097844</td>\n",
       "    </tr>\n",
       "    <tr>\n",
       "      <th>RH</th>\n",
       "      <td>0.085223</td>\n",
       "      <td>0.062221</td>\n",
       "      <td>-0.095280</td>\n",
       "      <td>0.092151</td>\n",
       "      <td>-0.300995</td>\n",
       "      <td>0.073795</td>\n",
       "      <td>-0.039192</td>\n",
       "      <td>-0.132517</td>\n",
       "      <td>-0.527390</td>\n",
       "      <td>1.000000</td>\n",
       "      <td>0.069410</td>\n",
       "      <td>0.099751</td>\n",
       "      <td>-0.075519</td>\n",
       "    </tr>\n",
       "    <tr>\n",
       "      <th>wind</th>\n",
       "      <td>0.018798</td>\n",
       "      <td>-0.020341</td>\n",
       "      <td>-0.086368</td>\n",
       "      <td>0.032478</td>\n",
       "      <td>-0.028485</td>\n",
       "      <td>-0.105342</td>\n",
       "      <td>-0.203466</td>\n",
       "      <td>0.106826</td>\n",
       "      <td>-0.227116</td>\n",
       "      <td>0.069410</td>\n",
       "      <td>1.000000</td>\n",
       "      <td>0.061119</td>\n",
       "      <td>0.012317</td>\n",
       "    </tr>\n",
       "    <tr>\n",
       "      <th>rain</th>\n",
       "      <td>0.065387</td>\n",
       "      <td>0.033234</td>\n",
       "      <td>0.013438</td>\n",
       "      <td>-0.048340</td>\n",
       "      <td>0.056702</td>\n",
       "      <td>0.074790</td>\n",
       "      <td>0.035861</td>\n",
       "      <td>0.067668</td>\n",
       "      <td>0.069491</td>\n",
       "      <td>0.099751</td>\n",
       "      <td>0.061119</td>\n",
       "      <td>1.000000</td>\n",
       "      <td>-0.007366</td>\n",
       "    </tr>\n",
       "    <tr>\n",
       "      <th>area</th>\n",
       "      <td>0.063385</td>\n",
       "      <td>0.044873</td>\n",
       "      <td>0.056496</td>\n",
       "      <td>0.023226</td>\n",
       "      <td>0.040122</td>\n",
       "      <td>0.072994</td>\n",
       "      <td>0.049383</td>\n",
       "      <td>0.008258</td>\n",
       "      <td>0.097844</td>\n",
       "      <td>-0.075519</td>\n",
       "      <td>0.012317</td>\n",
       "      <td>-0.007366</td>\n",
       "      <td>1.000000</td>\n",
       "    </tr>\n",
       "  </tbody>\n",
       "</table>\n",
       "</div>"
      ],
      "text/plain": [
       "              X         Y     month       day      FFMC       DMC        DC  \\\n",
       "X      1.000000  0.539548 -0.065003 -0.024922 -0.021039 -0.048384 -0.085916   \n",
       "Y      0.539548  1.000000 -0.066292 -0.005453 -0.046308  0.007782 -0.101178   \n",
       "month -0.065003 -0.066292  1.000000 -0.050837  0.291477  0.466645  0.868698   \n",
       "day   -0.024922 -0.005453 -0.050837  1.000000 -0.041068  0.062870  0.000105   \n",
       "FFMC  -0.021039 -0.046308  0.291477 -0.041068  1.000000  0.382619  0.330512   \n",
       "DMC   -0.048384  0.007782  0.466645  0.062870  0.382619  1.000000  0.682192   \n",
       "DC    -0.085916 -0.101178  0.868698  0.000105  0.330512  0.682192  1.000000   \n",
       "ISI    0.006210 -0.024488  0.186597  0.032909  0.531805  0.305128  0.229154   \n",
       "temp  -0.051258 -0.024103  0.368842  0.052190  0.431532  0.469594  0.496208   \n",
       "RH     0.085223  0.062221 -0.095280  0.092151 -0.300995  0.073795 -0.039192   \n",
       "wind   0.018798 -0.020341 -0.086368  0.032478 -0.028485 -0.105342 -0.203466   \n",
       "rain   0.065387  0.033234  0.013438 -0.048340  0.056702  0.074790  0.035861   \n",
       "area   0.063385  0.044873  0.056496  0.023226  0.040122  0.072994  0.049383   \n",
       "\n",
       "            ISI      temp        RH      wind      rain      area  \n",
       "X      0.006210 -0.051258  0.085223  0.018798  0.065387  0.063385  \n",
       "Y     -0.024488 -0.024103  0.062221 -0.020341  0.033234  0.044873  \n",
       "month  0.186597  0.368842 -0.095280 -0.086368  0.013438  0.056496  \n",
       "day    0.032909  0.052190  0.092151  0.032478 -0.048340  0.023226  \n",
       "FFMC   0.531805  0.431532 -0.300995 -0.028485  0.056702  0.040122  \n",
       "DMC    0.305128  0.469594  0.073795 -0.105342  0.074790  0.072994  \n",
       "DC     0.229154  0.496208 -0.039192 -0.203466  0.035861  0.049383  \n",
       "ISI    1.000000  0.394287 -0.132517  0.106826  0.067668  0.008258  \n",
       "temp   0.394287  1.000000 -0.527390 -0.227116  0.069491  0.097844  \n",
       "RH    -0.132517 -0.527390  1.000000  0.069410  0.099751 -0.075519  \n",
       "wind   0.106826 -0.227116  0.069410  1.000000  0.061119  0.012317  \n",
       "rain   0.067668  0.069491  0.099751  0.061119  1.000000 -0.007366  \n",
       "area   0.008258  0.097844 -0.075519  0.012317 -0.007366  1.000000  "
      ]
     },
     "execution_count": 83,
     "metadata": {},
     "output_type": "execute_result"
    }
   ],
   "source": [
    "forest_fires.corr()"
   ]
  },
  {
   "cell_type": "markdown",
   "metadata": {},
   "source": [
    "### Extracting features from the dataset"
   ]
  },
  {
   "cell_type": "code",
   "execution_count": 84,
   "metadata": {},
   "outputs": [],
   "source": [
    "x_values = list(forest_fires['X'])\n",
    "y_values = list(forest_fires['Y'])\n",
    "\n",
    "loc_values = []\n",
    "\n",
    "for index in range(0, len(x_values)):\n",
    "    temp_value = []\n",
    "\n",
    "    temp_value.append(x_values[index])\n",
    "    temp_value.append(y_values[index])\n",
    "    loc_values.append(temp_value)"
   ]
  },
  {
   "cell_type": "code",
   "execution_count": 85,
   "metadata": {},
   "outputs": [],
   "source": [
    "month_values = list(forest_fires['month'])\n",
    "day_values = list(forest_fires['day'])\n",
    "\n",
    "ffmc_values = list(forest_fires['FFMC'])\n",
    "dmc_values = list(forest_fires['DMC'])\n",
    "dc_values = list(forest_fires['DC'])\n",
    "isi_values = list(forest_fires['ISI'])\n",
    "\n",
    "temp_values = list(forest_fires['temp'])\n",
    "rh_values = list(forest_fires['RH'])\n",
    "wind_values = list(forest_fires['wind'])\n",
    "rain_values = list(forest_fires['rain'])\n",
    "\n",
    "area_values = list(forest_fires['area'])"
   ]
  },
  {
   "cell_type": "code",
   "execution_count": 86,
   "metadata": {},
   "outputs": [],
   "source": [
    "attribute_list = []\n",
    "\n",
    "for index in range(0, len(x_values)):\n",
    "    temp_list = []\n",
    "    \n",
    "    temp_list.append(x_values[index])\n",
    "    temp_list.append(y_values[index])\n",
    "    \n",
    "    temp_list.append(month_values[index])\n",
    "    temp_list.append(day_values[index])\n",
    "\n",
    "    temp_list.append(ffmc_values[index])\n",
    "    temp_list.append(dmc_values[index])\n",
    "    temp_list.append(dc_values[index])\n",
    "    temp_list.append(isi_values[index])\n",
    "\n",
    "    temp_list.append(temp_values[index])\n",
    "    temp_list.append(rh_values[index])\n",
    "    temp_list.append(wind_values[index])\n",
    "    temp_list.append(rain_values[index])\n",
    "    \n",
    "    attribute_list.append(temp_list)"
   ]
  },
  {
   "cell_type": "markdown",
   "metadata": {},
   "source": [
    "### Counting the instances of location points in dataset"
   ]
  },
  {
   "cell_type": "code",
   "execution_count": 87,
   "metadata": {},
   "outputs": [],
   "source": [
    "def count_points(x_points, y_points, scaling_factor):\n",
    "    count_array = []\n",
    "    \n",
    "    for index in range(0, len(x_points)):\n",
    "        temp_value = [x_points[index], y_points[index]]\n",
    "        count = 0\n",
    "        \n",
    "        for value in loc_values:\n",
    "            if(temp_value == value):\n",
    "                count = count + 1\n",
    "        count_array.append(count * scaling_factor )\n",
    "\n",
    "    return count_array"
   ]
  },
  {
   "cell_type": "markdown",
   "metadata": {},
   "source": [
    "### Histogram plotting function for dataset"
   ]
  },
  {
   "cell_type": "code",
   "execution_count": 88,
   "metadata": {},
   "outputs": [],
   "source": [
    "def histogram_plot(dataset, title):\n",
    "    plt.figure(figsize=(8, 6))    \n",
    "    \n",
    "    ax = plt.subplot()    \n",
    "    ax.spines[\"top\"].set_visible(False)    \n",
    "    ax.spines[\"bottom\"].set_visible(False)    \n",
    "    ax.spines[\"right\"].set_visible(False)    \n",
    "    ax.spines[\"left\"].set_visible(False)\n",
    "    \n",
    "    ax.get_xaxis().tick_bottom()\n",
    "    ax.get_yaxis().tick_left() \n",
    "    \n",
    "    plt.title(title, fontsize = 22)\n",
    "    plt.hist(dataset, edgecolor='black', linewidth=1.2)"
   ]
  },
  {
   "cell_type": "markdown",
   "metadata": {},
   "source": [
    "### Scatter plot for the locations"
   ]
  },
  {
   "cell_type": "code",
   "execution_count": 89,
   "metadata": {},
   "outputs": [
    {
     "data": {
      "image/png": "[encoded data removed]",
      "text/plain": [
       "<Figure size 576x432 with 1 Axes>"
      ]
     },
     "metadata": {
      "needs_background": "light"
     },
     "output_type": "display_data"
    }
   ],
   "source": [
    "plt.figure(figsize=(8, 6))    \n",
    "    \n",
    "ax = plt.subplot()    \n",
    "ax.spines[\"top\"].set_visible(False)    \n",
    "ax.spines[\"bottom\"].set_visible(False)    \n",
    "ax.spines[\"right\"].set_visible(False)    \n",
    "ax.spines[\"left\"].set_visible(False)\n",
    "    \n",
    "ax.get_xaxis().tick_bottom()\n",
    "ax.get_yaxis().tick_left() \n",
    "    \n",
    "plt.title(\"Fire location plot\", fontsize = 22)\n",
    "plt.scatter(x_values, y_values, s = count_points(x_values, y_values, 25), alpha = 0.3)\n",
    "plt.show()"
   ]
  },
  {
   "cell_type": "markdown",
   "metadata": {},
   "source": [
    "### Plotting the distribution of values for the dataset"
   ]
  },
  {
   "cell_type": "code",
   "execution_count": 90,
   "metadata": {},
   "outputs": [
    {
     "data": {
      "image/png": "[encoded data removed]",
      "text/plain": [
       "<Figure size 576x432 with 1 Axes>"
      ]
     },
     "metadata": {
      "needs_background": "light"
     },
     "output_type": "display_data"
    }
   ],
   "source": [
    "histogram_plot(month_values, title = \"Month distribution\")\n",
    "plt.show()"
   ]
  },
  {
   "cell_type": "code",
   "execution_count": 91,
   "metadata": {},
   "outputs": [
    {
     "data": {
      "image/png": "[encoded data removed]",
      "text/plain": [
       "<Figure size 576x432 with 1 Axes>"
      ]
     },
     "metadata": {
      "needs_background": "light"
     },
     "output_type": "display_data"
    }
   ],
   "source": [
    "histogram_plot(day_values, title = \"Day distribution\")\n",
    "plt.show()"
   ]
  },
  {
   "cell_type": "code",
   "execution_count": 92,
   "metadata": {},
   "outputs": [
    {
     "data": {
      "image/png": "[encoded data removed]",
      "text/plain": [
       "<Figure size 576x432 with 1 Axes>"
      ]
     },
     "metadata": {
      "needs_background": "light"
     },
     "output_type": "display_data"
    }
   ],
   "source": [
    "histogram_plot(ffmc_values, title = \"FFMC distribution\")\n",
    "plt.show()"
   ]
  },
  {
   "cell_type": "code",
   "execution_count": 93,
   "metadata": {},
   "outputs": [
    {
     "data": {
      "image/png": "[encoded data removed]",
      "text/plain": [
       "<Figure size 576x432 with 1 Axes>"
      ]
     },
     "metadata": {
      "needs_background": "light"
     },
     "output_type": "display_data"
    }
   ],
   "source": [
    "histogram_plot(dmc_values, title = \"DMC distribution\")\n",
    "plt.show()"
   ]
  },
  {
   "cell_type": "code",
   "execution_count": 94,
   "metadata": {},
   "outputs": [
    {
     "data": {
      "image/png": "[encoded data removed]",
      "text/plain": [
       "<Figure size 576x432 with 1 Axes>"
      ]
     },
     "metadata": {
      "needs_background": "light"
     },
     "output_type": "display_data"
    }
   ],
   "source": [
    "histogram_plot(dc_values, title = \"DC distribution\")\n",
    "plt.show()"
   ]
  },
  {
   "cell_type": "code",
   "execution_count": 95,
   "metadata": {},
   "outputs": [
    {
     "data": {
      "image/png": "[encoded data removed]",
      "text/plain": [
       "<Figure size 576x432 with 1 Axes>"
      ]
     },
     "metadata": {
      "needs_background": "light"
     },
     "output_type": "display_data"
    }
   ],
   "source": [
    "histogram_plot(isi_values, title = \"ISI distribution\")\n",
    "plt.show()"
   ]
  },
  {
   "cell_type": "code",
   "execution_count": 96,
   "metadata": {},
   "outputs": [
    {
     "data": {
      "image/png": "[encoded data removed]",
      "text/plain": [
       "<Figure size 576x432 with 1 Axes>"
      ]
     },
     "metadata": {
      "needs_background": "light"
     },
     "output_type": "display_data"
    }
   ],
   "source": [
    "histogram_plot(temp_values, title = \"Temperature distribution\")\n",
    "plt.show()"
   ]
  },
  {
   "cell_type": "code",
   "execution_count": 97,
   "metadata": {},
   "outputs": [
    {
     "data": {
      "image/png": "[encoded data removed]",
      "text/plain": [
       "<Figure size 576x432 with 1 Axes>"
      ]
     },
     "metadata": {
      "needs_background": "light"
     },
     "output_type": "display_data"
    }
   ],
   "source": [
    "histogram_plot(rh_values, title = \"RH distribution\")\n",
    "plt.show()"
   ]
  },
  {
   "cell_type": "code",
   "execution_count": 98,
   "metadata": {},
   "outputs": [
    {
     "data": {
      "image/png": "[encoded data removed]",
      "text/plain": [
       "<Figure size 576x432 with 1 Axes>"
      ]
     },
     "metadata": {
      "needs_background": "light"
     },
     "output_type": "display_data"
    }
   ],
   "source": [
    "histogram_plot(wind_values, title = \"Wind distribution\")\n",
    "plt.show()"
   ]
  },
  {
   "cell_type": "code",
   "execution_count": 99,
   "metadata": {},
   "outputs": [
    {
     "data": {
      "image/png": "[encoded data removed]",
      "text/plain": [
       "<Figure size 576x432 with 1 Axes>"
      ]
     },
     "metadata": {
      "needs_background": "light"
     },
     "output_type": "display_data"
    }
   ],
   "source": [
    "histogram_plot(rain_values, title = \"Rain distribution\")\n",
    "plt.show()"
   ]
  },
  {
   "cell_type": "code",
   "execution_count": 100,
   "metadata": {},
   "outputs": [
    {
     "data": {
      "image/png": "[encoded data removed]",
      "text/plain": [
       "<Figure size 576x432 with 1 Axes>"
      ]
     },
     "metadata": {
      "needs_background": "light"
     },
     "output_type": "display_data"
    }
   ],
   "source": [
    "histogram_plot(area_values, title = \"Burned area distribution\")\n",
    "plt.show()"
   ]
  },
  {
   "cell_type": "markdown",
   "metadata": {},
   "source": [
    "### Percentage of dataset with 'burned area' > 0"
   ]
  },
  {
   "cell_type": "code",
   "execution_count": 101,
   "metadata": {},
   "outputs": [
    {
     "name": "stdout",
     "output_type": "stream",
     "text": [
      "The number of data records with 'burned area' > 0 are 270 and the total number of records are 517.\n",
      "The percentage value is 52.22437137330754.\n"
     ]
    }
   ],
   "source": [
    "total_count = 0\n",
    "positive_data_count = 0\n",
    "\n",
    "for value in area_values:\n",
    "    if(value > 0):\n",
    "        positive_data_count = positive_data_count + 1\n",
    "    total_count = total_count + 1\n",
    "\n",
    "print(\"The number of data records with 'burned area' > 0 are \" + str(positive_data_count) + \" and the total number of records are \" + str(total_count) + \".\")\n",
    "print(\"The percentage value is \" + str(positive_data_count/total_count * 100) + \".\")"
   ]
  },
  {
   "cell_type": "markdown",
   "metadata": {},
   "source": [
    "## Gaining insights with learning models"
   ]
  },
  {
   "cell_type": "markdown",
   "metadata": {},
   "source": [
    "### Spilliting the available data/Setting the initial parameters"
   ]
  },
  {
   "cell_type": "code",
   "execution_count": 102,
   "metadata": {},
   "outputs": [],
   "source": [
    "train_x, test_x, train_y, test_y = train_test_split(attribute_list, area_values, test_size=0.2, random_state = 9)\n",
    "mse_values = []\n",
    "variance_score = []"
   ]
  },
  {
   "cell_type": "markdown",
   "metadata": {},
   "source": [
    "### Printing the actual vs predicted values"
   ]
  },
  {
   "cell_type": "code",
   "execution_count": 103,
   "metadata": {},
   "outputs": [],
   "source": [
    "def print_values(test, predicted):\n",
    "    print(\"The actual output and the predicted output are:\")\n",
    "    \n",
    "    for value in range(0, len(predicted_y)):\n",
    "        print('%.4f' % test_y[value], \" \", '%.4f' % predicted_y[value])"
   ]
  },
  {
   "cell_type": "markdown",
   "metadata": {},
   "source": [
    "### Linear regression model"
   ]
  },
  {
   "cell_type": "code",
   "execution_count": 104,
   "metadata": {},
   "outputs": [
    {
     "name": "stdout",
     "output_type": "stream",
     "text": [
      "Coefficients: \n",
      " [ 1.63897578  1.59124431  2.07931799  0.98231984 -0.18672877  0.09169618\n",
      " -0.02163921 -0.40553533  0.57061408 -0.39798641  1.18224976 -1.57179411]\n",
      "\n",
      "Mean squared error:  2123.487162115886\n",
      "Variance score: -0.00\n"
     ]
    }
   ],
   "source": [
    "linear_regression = linear_model.LinearRegression()\n",
    "\n",
    "linear_regression.fit(train_x, train_y)\n",
    "predicted_y = linear_regression.predict(test_x)\n",
    "\n",
    "print('Coefficients: \\n', linear_regression.coef_)\n",
    "\n",
    "print(\"\\nMean squared error: \", mean_squared_error(test_y, predicted_y))\n",
    "print('Variance score: %.2f' % r2_score(test_y, predicted_y))\n",
    "\n",
    "mse_values.append(mean_squared_error(test_y, predicted_y))\n",
    "variance_score.append(r2_score(test_y, predicted_y))\n",
    "\n",
    "#print_values(test_y, predicted_y)"
   ]
  },
  {
   "cell_type": "markdown",
   "metadata": {},
   "source": [
    "### Decision tree model"
   ]
  },
  {
   "cell_type": "code",
   "execution_count": 105,
   "metadata": {},
   "outputs": [
    {
     "name": "stdout",
     "output_type": "stream",
     "text": [
      "Mean squared error:  2325.4108387019232\n",
      "Variance score: -0.10\n"
     ]
    }
   ],
   "source": [
    "decision_tree = tree.DecisionTreeRegressor(presort = True)\n",
    "\n",
    "decision_tree.fit(train_x, train_y)\n",
    "predicted_y = decision_tree.predict(test_x)\n",
    "\n",
    "print(\"Mean squared error: \", mean_squared_error(test_y, predicted_y))\n",
    "print('Variance score: %.2f' % r2_score(test_y, predicted_y))\n",
    "\n",
    "mse_values.append(mean_squared_error(test_y, predicted_y))\n",
    "variance_score.append(r2_score(test_y, predicted_y))\n",
    "\n",
    "#print_values(test_y, predicted_y)"
   ]
  },
  {
   "cell_type": "markdown",
   "metadata": {},
   "source": [
    "### MLP model"
   ]
  },
  {
   "cell_type": "code",
   "execution_count": 106,
   "metadata": {},
   "outputs": [
    {
     "name": "stdout",
     "output_type": "stream",
     "text": [
      "Mean squared error:  2099.235519928646\n",
      "Variance score: 0.01\n"
     ]
    }
   ],
   "source": [
    "mlp = neural_network.MLPRegressor(hidden_layer_sizes = (150,50,50), activation = \"tanh\", solver = \"sgd\", learning_rate = \"adaptive\")\n",
    "\n",
    "mlp.fit(train_x, train_y)\n",
    "predicted_y = mlp.predict(test_x)\n",
    "\n",
    "print(\"Mean squared error: \", mean_squared_error(test_y, predicted_y))\n",
    "print('Variance score: %.2f' % r2_score(test_y, predicted_y))\n",
    "\n",
    "mse_values.append(mean_squared_error(test_y, predicted_y))\n",
    "variance_score.append(r2_score(test_y, predicted_y))\n",
    "\n",
    "#print_values(test_y, predicted_y)"
   ]
  },
  {
   "cell_type": "markdown",
   "metadata": {},
   "source": [
    "### SVM model"
   ]
  },
  {
   "cell_type": "code",
   "execution_count": 107,
   "metadata": {},
   "outputs": [
    {
     "name": "stdout",
     "output_type": "stream",
     "text": [
      "Mean squared error:  2331.289178732077\n",
      "Variance score: -0.10\n"
     ]
    },
    {
     "name": "stderr",
     "output_type": "stream",
     "text": [
      "C:\\ProgramData\\Anaconda3\\lib\\site-packages\\sklearn\\svm\\base.py:196: FutureWarning: The default value of gamma will change from 'auto' to 'scale' in version 0.22 to account better for unscaled features. Set gamma explicitly to 'auto' or 'scale' to avoid this warning.\n",
      "  \"avoid this warning.\", FutureWarning)\n"
     ]
    }
   ],
   "source": [
    "svm_model = svm.SVR()\n",
    "\n",
    "svm_model.fit(train_x, train_y)\n",
    "predicted_y = svm_model.predict(test_x)\n",
    "\n",
    "print(\"Mean squared error: \", mean_squared_error(test_y, predicted_y))\n",
    "print('Variance score: %.2f' % r2_score(test_y, predicted_y))\n",
    "\n",
    "mse_values.append(mean_squared_error(test_y, predicted_y))\n",
    "variance_score.append(r2_score(test_y, predicted_y))\n",
    "\n",
    "#print_values(test_y, predicted_y)"
   ]
  },
  {
   "cell_type": "markdown",
   "metadata": {},
   "source": [
    "### Random forest model"
   ]
  },
  {
   "cell_type": "code",
   "execution_count": 108,
   "metadata": {},
   "outputs": [
    {
     "name": "stdout",
     "output_type": "stream",
     "text": [
      "Mean squared error:  3083.0911249095216\n",
      "Variance score: -0.46\n"
     ]
    },
    {
     "name": "stderr",
     "output_type": "stream",
     "text": [
      "C:\\ProgramData\\Anaconda3\\lib\\site-packages\\sklearn\\ensemble\\forest.py:246: FutureWarning: The default value of n_estimators will change from 10 in version 0.20 to 100 in 0.22.\n",
      "  \"10 in version 0.20 to 100 in 0.22.\", FutureWarning)\n"
     ]
    }
   ],
   "source": [
    "random_forest = RandomForestRegressor()\n",
    "random_forest.fit(train_x, train_y)\n",
    "predicted_y = random_forest.predict(test_x)\n",
    "\n",
    "print(\"Mean squared error: \", mean_squared_error(test_y, predicted_y))\n",
    "print('Variance score: %.2f' % r2_score(test_y, predicted_y))\n",
    "\n",
    "mse_values.append(mean_squared_error(test_y, predicted_y))\n",
    "variance_score.append(r2_score(test_y, predicted_y))\n",
    "\n",
    "#print_values(test_y, predicted_y)"
   ]
  },
  {
   "cell_type": "markdown",
   "metadata": {},
   "source": [
    "### Bayesian ridge model"
   ]
  },
  {
   "cell_type": "code",
   "execution_count": 109,
   "metadata": {},
   "outputs": [
    {
     "name": "stdout",
     "output_type": "stream",
     "text": [
      "Mean squared error:  2122.4221751865553\n",
      "Variance score: -0.00\n"
     ]
    }
   ],
   "source": [
    "bayesian_ridge = linear_model.BayesianRidge()\n",
    "bayesian_ridge.fit(train_x, train_y)\n",
    "predicted_y = bayesian_ridge.predict(test_x)\n",
    "\n",
    "print(\"Mean squared error: \", mean_squared_error(test_y, predicted_y))\n",
    "print('Variance score: %.2f' % r2_score(test_y, predicted_y))\n",
    "\n",
    "mse_values.append(mean_squared_error(test_y, predicted_y))\n",
    "variance_score.append(r2_score(test_y, predicted_y))\n",
    "\n",
    "#print_values(test_y, predicted_y)"
   ]
  },
  {
   "cell_type": "markdown",
   "metadata": {},
   "source": [
    "### Lasso model"
   ]
  },
  {
   "cell_type": "code",
   "execution_count": 110,
   "metadata": {},
   "outputs": [
    {
     "name": "stdout",
     "output_type": "stream",
     "text": [
      "Mean squared error:  2126.066659189538\n",
      "Variance score: -0.01\n"
     ]
    }
   ],
   "source": [
    "lasso_model = linear_model.Lasso()\n",
    "lasso_model.fit(train_x, train_y)\n",
    "predicted_y = lasso_model.predict(test_x)\n",
    "\n",
    "print(\"Mean squared error: \", mean_squared_error(test_y, predicted_y))\n",
    "print('Variance score: %.2f' % r2_score(test_y, predicted_y))\n",
    "\n",
    "mse_values.append(mean_squared_error(test_y, predicted_y))\n",
    "variance_score.append(r2_score(test_y, predicted_y))\n",
    "\n",
    "#print_values(test_y, predicted_y)"
   ]
  },
  {
   "cell_type": "markdown",
   "metadata": {},
   "source": [
    "### Function for generating the graph"
   ]
  },
  {
   "cell_type": "code",
   "execution_count": 111,
   "metadata": {},
   "outputs": [],
   "source": [
    "def generate_plot(title, ticks, dataset, color_number):\n",
    "    colors = [\"slateblue\", \"mediumseagreen\", \"tomato\"]\n",
    "    plt.figure(figsize=(8, 6))\n",
    "    \n",
    "    ax = plt.subplot()    \n",
    "    ax.spines[\"top\"].set_visible(False)   \n",
    "    ax.spines[\"bottom\"].set_visible(False)\n",
    "    ax.spines[\"right\"].set_visible(False)\n",
    "    ax.spines[\"left\"].set_visible(False)\n",
    "    \n",
    "    ax.get_xaxis().tick_bottom()\n",
    "    ax.get_yaxis().tick_left() \n",
    "    \n",
    "    plt.xticks(np.arange(len(ticks)), ticks, fontsize=10, rotation=30)\n",
    "    plt.title(title, fontsize = 22)\n",
    "    plt.bar(ticks, dataset, linewidth=1.2, color=colors[color_number])"
   ]
  },
  {
   "cell_type": "markdown",
   "metadata": {},
   "source": [
    "### Mean squared error graph"
   ]
  },
  {
   "cell_type": "code",
   "execution_count": 112,
   "metadata": {},
   "outputs": [
    {
     "data": {
      "image/png": "[encoded data removed]",
      "text/plain": [
       "<Figure size 576x432 with 1 Axes>"
      ]
     },
     "metadata": {
      "needs_background": "light"
     },
     "output_type": "display_data"
    }
   ],
   "source": [
    "ticks = [\"Linear Regression\", \"Decision Tree\", \"MLP\", \"SVM\", \"Random Forest\", \"Bayesion Ridge\", \"Lasso\"]\n",
    "generate_plot(\"Plot of MSE values\", ticks, mse_values, 0)"
   ]
  },
  {
   "cell_type": "markdown",
   "metadata": {},
   "source": [
    "### Variance score graph"
   ]
  },
  {
   "cell_type": "code",
   "execution_count": 113,
   "metadata": {},
   "outputs": [
    {
     "data": {
      "image/png": "[encoded data removed]",
      "text/plain": [
       "<Figure size 576x432 with 1 Axes>"
      ]
     },
     "metadata": {
      "needs_background": "light"
     },
     "output_type": "display_data"
    }
   ],
   "source": [
    "generate_plot(\"Plot of Variance scores\", ticks, variance_score, 1)"
   ]
  },
  {
   "cell_type": "markdown",
   "metadata": {},
   "source": [
    "## Applying Log-Transformation to the 'burned area' variable"
   ]
  },
  {
   "cell_type": "markdown",
   "metadata": {},
   "source": [
    "We can see that the errors in the prediction of burned areas from the given dataset is very high in the above mentioned model. A reason for this could be the high skewness of the 'Burned Area' variable is towards zero."
   ]
  },
  {
   "cell_type": "code",
   "execution_count": 114,
   "metadata": {},
   "outputs": [
    {
     "data": {
      "image/png": "[encoded data removed]",
      "text/plain": [
       "<Figure size 576x432 with 1 Axes>"
      ]
     },
     "metadata": {
      "needs_background": "light"
     },
     "output_type": "display_data"
    }
   ],
   "source": [
    "area_values = list(np.log(np.array(area_values) + 1))\n",
    "histogram_plot(area_values, title = \"Burned area distribution\")"
   ]
  },
  {
   "cell_type": "markdown",
   "metadata": {},
   "source": [
    "## Applying learning models on the processed data"
   ]
  },
  {
   "cell_type": "markdown",
   "metadata": {},
   "source": [
    "### Setting the initial parameters"
   ]
  },
  {
   "cell_type": "code",
   "execution_count": 115,
   "metadata": {},
   "outputs": [],
   "source": [
    "mse_values = []\n",
    "variance_score = []"
   ]
  },
  {
   "cell_type": "markdown",
   "metadata": {},
   "source": [
    "### Linear regression model"
   ]
  },
  {
   "cell_type": "code",
   "execution_count": 116,
   "metadata": {},
   "outputs": [
    {
     "name": "stdout",
     "output_type": "stream",
     "text": [
      "Coefficients: \n",
      " [ 1.63897578  1.59124431  2.07931799  0.98231984 -0.18672877  0.09169618\n",
      " -0.02163921 -0.40553533  0.57061408 -0.39798641  1.18224976 -1.57179411]\n",
      "\n",
      "Mean squared error:  2123.487162115886\n",
      "Variance score: -0.00\n"
     ]
    }
   ],
   "source": [
    "linear_regression = linear_model.LinearRegression()\n",
    "\n",
    "linear_regression.fit(train_x, train_y)\n",
    "predicted_y = linear_regression.predict(test_x)\n",
    "\n",
    "print('Coefficients: \\n', linear_regression.coef_)\n",
    "\n",
    "print(\"\\nMean squared error: \", mean_squared_error(test_y, predicted_y))\n",
    "print('Variance score: %.2f' % r2_score(test_y, predicted_y))\n",
    "\n",
    "mse_values.append(mean_squared_error(test_y, predicted_y))\n",
    "variance_score.append(r2_score(test_y, predicted_y))\n",
    "\n",
    "#print_values(test_y, predicted_y)"
   ]
  },
  {
   "cell_type": "markdown",
   "metadata": {},
   "source": [
    "### Decision tree model"
   ]
  },
  {
   "cell_type": "code",
   "execution_count": 117,
   "metadata": {},
   "outputs": [
    {
     "name": "stdout",
     "output_type": "stream",
     "text": [
      "Mean squared error:  7415.151299519228\n",
      "Variance score: -2.51\n"
     ]
    }
   ],
   "source": [
    "decision_tree = tree.DecisionTreeRegressor(presort = True)\n",
    "\n",
    "decision_tree.fit(train_x, train_y)\n",
    "predicted_y = decision_tree.predict(test_x)\n",
    "\n",
    "print(\"Mean squared error: \", mean_squared_error(test_y, predicted_y))\n",
    "print('Variance score: %.2f' % r2_score(test_y, predicted_y))\n",
    "\n",
    "mse_values.append(mean_squared_error(test_y, predicted_y))\n",
    "variance_score.append(r2_score(test_y, predicted_y))\n",
    "\n",
    "#print_values(test_y, predicted_y)"
   ]
  },
  {
   "cell_type": "markdown",
   "metadata": {},
   "source": [
    "### MLP model"
   ]
  },
  {
   "cell_type": "code",
   "execution_count": 118,
   "metadata": {},
   "outputs": [
    {
     "name": "stdout",
     "output_type": "stream",
     "text": [
      "Mean squared error:  2089.9495682250213\n",
      "Variance score: 0.01\n"
     ]
    }
   ],
   "source": [
    "mlp = neural_network.MLPRegressor(hidden_layer_sizes = (150,30,50), activation = \"tanh\", solver = \"sgd\", learning_rate = \"adaptive\")\n",
    "\n",
    "mlp.fit(train_x, train_y)\n",
    "predicted_y = mlp.predict(test_x)\n",
    "\n",
    "print(\"Mean squared error: \", mean_squared_error(test_y, predicted_y))\n",
    "print('Variance score: %.2f' % r2_score(test_y, predicted_y))\n",
    "\n",
    "mse_values.append(mean_squared_error(test_y, predicted_y))\n",
    "variance_score.append(r2_score(test_y, predicted_y))\n",
    "\n",
    "#print_values(test_y, predicted_y)"
   ]
  },
  {
   "cell_type": "markdown",
   "metadata": {},
   "source": [
    "### SVM model"
   ]
  },
  {
   "cell_type": "code",
   "execution_count": 119,
   "metadata": {},
   "outputs": [
    {
     "name": "stdout",
     "output_type": "stream",
     "text": [
      "Mean squared error:  2331.289178732077\n",
      "Variance score: -0.10\n"
     ]
    },
    {
     "name": "stderr",
     "output_type": "stream",
     "text": [
      "C:\\ProgramData\\Anaconda3\\lib\\site-packages\\sklearn\\svm\\base.py:196: FutureWarning: The default value of gamma will change from 'auto' to 'scale' in version 0.22 to account better for unscaled features. Set gamma explicitly to 'auto' or 'scale' to avoid this warning.\n",
      "  \"avoid this warning.\", FutureWarning)\n"
     ]
    }
   ],
   "source": [
    "svm_model = svm.SVR()\n",
    "\n",
    "svm_model.fit(train_x, train_y)\n",
    "predicted_y = svm_model.predict(test_x)\n",
    "\n",
    "print(\"Mean squared error: \", mean_squared_error(test_y, predicted_y))\n",
    "print('Variance score: %.2f' % r2_score(test_y, predicted_y))\n",
    "\n",
    "mse_values.append(mean_squared_error(test_y, predicted_y))\n",
    "variance_score.append(r2_score(test_y, predicted_y))\n",
    "\n",
    "#print_values(test_y, predicted_y)"
   ]
  },
  {
   "cell_type": "markdown",
   "metadata": {},
   "source": [
    "### Random forest model"
   ]
  },
  {
   "cell_type": "code",
   "execution_count": 120,
   "metadata": {},
   "outputs": [
    {
     "name": "stdout",
     "output_type": "stream",
     "text": [
      "Mean squared error:  2757.8060607005227\n",
      "Variance score: -0.30\n"
     ]
    },
    {
     "name": "stderr",
     "output_type": "stream",
     "text": [
      "C:\\ProgramData\\Anaconda3\\lib\\site-packages\\sklearn\\ensemble\\forest.py:246: FutureWarning: The default value of n_estimators will change from 10 in version 0.20 to 100 in 0.22.\n",
      "  \"10 in version 0.20 to 100 in 0.22.\", FutureWarning)\n"
     ]
    }
   ],
   "source": [
    "random_forest = RandomForestRegressor()\n",
    "random_forest.fit(train_x, train_y)\n",
    "predicted_y = random_forest.predict(test_x)\n",
    "\n",
    "print(\"Mean squared error: \", mean_squared_error(test_y, predicted_y))\n",
    "print('Variance score: %.2f' % r2_score(test_y, predicted_y))\n",
    "\n",
    "mse_values.append(mean_squared_error(test_y, predicted_y))\n",
    "variance_score.append(r2_score(test_y, predicted_y))\n",
    "\n",
    "#print_values(test_y, predicted_y)"
   ]
  },
  {
   "cell_type": "markdown",
   "metadata": {},
   "source": [
    "### Bayesian ridge model"
   ]
  },
  {
   "cell_type": "code",
   "execution_count": 121,
   "metadata": {},
   "outputs": [
    {
     "name": "stdout",
     "output_type": "stream",
     "text": [
      "Mean squared error:  2122.4221751865553\n",
      "Variance score: -0.00\n"
     ]
    }
   ],
   "source": [
    "bayesian_ridge = linear_model.BayesianRidge()\n",
    "bayesian_ridge.fit(train_x, train_y)\n",
    "predicted_y = bayesian_ridge.predict(test_x)\n",
    "\n",
    "print(\"Mean squared error: \", mean_squared_error(test_y, predicted_y))\n",
    "print('Variance score: %.2f' % r2_score(test_y, predicted_y))\n",
    "\n",
    "mse_values.append(mean_squared_error(test_y, predicted_y))\n",
    "variance_score.append(r2_score(test_y, predicted_y))\n",
    "\n",
    "#print_values(test_y, predicted_y)"
   ]
  },
  {
   "cell_type": "markdown",
   "metadata": {},
   "source": [
    "### Lasso model"
   ]
  },
  {
   "cell_type": "code",
   "execution_count": 122,
   "metadata": {},
   "outputs": [
    {
     "name": "stdout",
     "output_type": "stream",
     "text": [
      "Mean squared error:  2126.066659189538\n",
      "Variance score: -0.01\n"
     ]
    }
   ],
   "source": [
    "lasso_model = linear_model.Lasso()\n",
    "lasso_model.fit(train_x, train_y)\n",
    "predicted_y = lasso_model.predict(test_x)\n",
    "\n",
    "print(\"Mean squared error: \", mean_squared_error(test_y, predicted_y))\n",
    "print('Variance score: %.2f' % r2_score(test_y, predicted_y))\n",
    "\n",
    "mse_values.append(mean_squared_error(test_y, predicted_y))\n",
    "variance_score.append(r2_score(test_y, predicted_y))\n",
    "\n",
    "#print_values(test_y, predicted_y)"
   ]
  },
  {
   "cell_type": "markdown",
   "metadata": {},
   "source": [
    "### Mean squared error graph"
   ]
  },
  {
   "cell_type": "code",
   "execution_count": 123,
   "metadata": {
    "scrolled": false
   },
   "outputs": [
    {
     "data": {
      "image/png": "[encoded data removed]",
      "text/plain": [
       "<Figure size 576x432 with 1 Axes>"
      ]
     },
     "metadata": {
      "needs_background": "light"
     },
     "output_type": "display_data"
    }
   ],
   "source": [
    "ticks = [\"Linear Regression\", \"Decision Tree\", \"MLP\", \"SVM\", \"Random Forest\", \"Bayesion Ridge\", \"Lasso\"]\n",
    "generate_plot(\"Plot of MSE values\", ticks, mse_values, 0)"
   ]
  },
  {
   "cell_type": "markdown",
   "metadata": {},
   "source": [
    "### Variance score graph"
   ]
  },
  {
   "cell_type": "code",
   "execution_count": 124,
   "metadata": {
    "scrolled": false
   },
   "outputs": [
    {
     "data": {
      "image/png": "[encoded data removed]",
      "text/plain": [
       "<Figure size 576x432 with 1 Axes>"
      ]
     },
     "metadata": {
      "needs_background": "light"
     },
     "output_type": "display_data"
    }
   ],
   "source": [
    "generate_plot(\"Plot of Variance scores\", ticks, variance_score, 1)"
   ]
  },
  {
   "cell_type": "markdown",
   "metadata": {},
   "source": [
    "## Normalisation of all data"
   ]
  },
  {
   "cell_type": "code",
   "execution_count": 125,
   "metadata": {},
   "outputs": [],
   "source": [
    "n_x_values = preprocessing.normalize([x_values])[0]\n",
    "n_y_values = preprocessing.normalize([y_values])[0]\n",
    "\n",
    "n_month_values = preprocessing.normalize([month_values])[0]\n",
    "n_day_values = preprocessing.normalize([day_values])[0]\n",
    "\n",
    "n_ffmc_values = preprocessing.normalize([ffmc_values])[0]\n",
    "n_dmc_values = preprocessing.normalize([dmc_values])[0]\n",
    "n_dc_values = preprocessing.normalize([dc_values])[0]\n",
    "n_isi_values = preprocessing.normalize([isi_values])[0]\n",
    "\n",
    "n_temp_values = preprocessing.normalize([temp_values])[0]\n",
    "n_rh_values = preprocessing.normalize([rh_values])[0]\n",
    "n_wind_values = preprocessing.normalize([wind_values])[0]\n",
    "n_rain_values = preprocessing.normalize([rain_values])[0]\n",
    "\n",
    "n_area_values = preprocessing.normalize([area_values])[0]\n",
    "n_attribute_list = []\n",
    "\n",
    "for index in range(0, len(n_x_values)):\n",
    "    temp_list = []\n",
    "    \n",
    "    temp_list.append(n_x_values[index])\n",
    "    temp_list.append(n_y_values[index])\n",
    "    \n",
    "    temp_list.append(n_month_values[index])\n",
    "    temp_list.append(n_day_values[index])\n",
    "\n",
    "    temp_list.append(n_ffmc_values[index])\n",
    "    temp_list.append(n_dmc_values[index])\n",
    "    temp_list.append(n_dc_values[index])\n",
    "    temp_list.append(n_isi_values[index])\n",
    "\n",
    "    temp_list.append(n_temp_values[index])\n",
    "    temp_list.append(n_rh_values[index])\n",
    "    temp_list.append(n_wind_values[index])\n",
    "    temp_list.append(n_rain_values[index])\n",
    "    \n",
    "    n_attribute_list.append(temp_list)"
   ]
  },
  {
   "cell_type": "markdown",
   "metadata": {},
   "source": [
    "## Applying learning models on the normalised data"
   ]
  },
  {
   "cell_type": "markdown",
   "metadata": {},
   "source": [
    "### Setting the initial parameters"
   ]
  },
  {
   "cell_type": "code",
   "execution_count": 126,
   "metadata": {},
   "outputs": [],
   "source": [
    "mse_values = []\n",
    "variance_score = []"
   ]
  },
  {
   "cell_type": "markdown",
   "metadata": {},
   "source": [
    "### Spilliting the available data"
   ]
  },
  {
   "cell_type": "code",
   "execution_count": 127,
   "metadata": {},
   "outputs": [],
   "source": [
    "train_x, test_x, train_y, test_y = train_test_split(n_attribute_list, n_area_values, test_size=0.3, random_state = 9)"
   ]
  },
  {
   "cell_type": "markdown",
   "metadata": {},
   "source": [
    "### Linear regression model"
   ]
  },
  {
   "cell_type": "code",
   "execution_count": 128,
   "metadata": {},
   "outputs": [
    {
     "name": "stdout",
     "output_type": "stream",
     "text": [
      "Coefficients: \n",
      " [ 0.06062002  0.11191486  0.34063326  0.04497625  0.08314295  0.11997013\n",
      " -0.13438317 -0.12264177 -0.08720562 -0.30440979  0.16393813  0.02727977]\n",
      "\n",
      "Mean squared error:  0.001426223498840591\n",
      "Variance score: 0.00\n"
     ]
    }
   ],
   "source": [
    "linear_regression = linear_model.LinearRegression()\n",
    "\n",
    "linear_regression.fit(train_x, train_y)\n",
    "predicted_y = linear_regression.predict(test_x)\n",
    "\n",
    "print('Coefficients: \\n', linear_regression.coef_)\n",
    "\n",
    "print(\"\\nMean squared error: \", mean_squared_error(test_y, predicted_y))\n",
    "print('Variance score: %.2f' % r2_score(test_y, predicted_y))\n",
    "\n",
    "mse_values.append(mean_squared_error(test_y, predicted_y))\n",
    "variance_score.append(r2_score(test_y, predicted_y))\n",
    "\n",
    "#print_values(test_y, predicted_y)"
   ]
  },
  {
   "cell_type": "markdown",
   "metadata": {},
   "source": [
    "### Decision tree model"
   ]
  },
  {
   "cell_type": "code",
   "execution_count": 129,
   "metadata": {},
   "outputs": [
    {
     "name": "stdout",
     "output_type": "stream",
     "text": [
      "Mean squared error:  0.0026558492245959842\n",
      "Variance score: -0.86\n"
     ]
    }
   ],
   "source": [
    "decision_tree = tree.DecisionTreeRegressor(presort = True)\n",
    "\n",
    "decision_tree.fit(train_x, train_y)\n",
    "predicted_y = decision_tree.predict(test_x)\n",
    "\n",
    "print(\"Mean squared error: \", mean_squared_error(test_y, predicted_y))\n",
    "print('Variance score: %.2f' % r2_score(test_y, predicted_y))\n",
    "\n",
    "mse_values.append(mean_squared_error(test_y, predicted_y))\n",
    "variance_score.append(r2_score(test_y, predicted_y))\n",
    "\n",
    "#print_values(test_y, predicted_y)"
   ]
  },
  {
   "cell_type": "markdown",
   "metadata": {},
   "source": [
    "### MLP model"
   ]
  },
  {
   "cell_type": "code",
   "execution_count": 130,
   "metadata": {},
   "outputs": [
    {
     "name": "stdout",
     "output_type": "stream",
     "text": [
      "Mean squared error:  0.001478753904859213\n",
      "Variance score: -0.03\n"
     ]
    }
   ],
   "source": [
    "mlp = neural_network.MLPRegressor(hidden_layer_sizes = (150,50,50), activation = \"tanh\", solver = \"sgd\", learning_rate = \"adaptive\")\n",
    "\n",
    "mlp.fit(train_x, train_y)\n",
    "predicted_y = mlp.predict(test_x)\n",
    "\n",
    "print(\"Mean squared error: \", mean_squared_error(test_y, predicted_y))\n",
    "print('Variance score: %.2f' % r2_score(test_y, predicted_y))\n",
    "\n",
    "mse_values.append(mean_squared_error(test_y, predicted_y))\n",
    "variance_score.append(r2_score(test_y, predicted_y))\n",
    "\n",
    "#print_values(test_y, predicted_y)"
   ]
  },
  {
   "cell_type": "markdown",
   "metadata": {},
   "source": [
    "### SVM model"
   ]
  },
  {
   "cell_type": "code",
   "execution_count": 131,
   "metadata": {},
   "outputs": [
    {
     "name": "stdout",
     "output_type": "stream",
     "text": [
      "Mean squared error:  0.004579753060572858\n",
      "Variance score: -2.20\n"
     ]
    },
    {
     "name": "stderr",
     "output_type": "stream",
     "text": [
      "C:\\ProgramData\\Anaconda3\\lib\\site-packages\\sklearn\\svm\\base.py:196: FutureWarning: The default value of gamma will change from 'auto' to 'scale' in version 0.22 to account better for unscaled features. Set gamma explicitly to 'auto' or 'scale' to avoid this warning.\n",
      "  \"avoid this warning.\", FutureWarning)\n"
     ]
    }
   ],
   "source": [
    "svm_model = svm.SVR()\n",
    "\n",
    "svm_model.fit(train_x, train_y)\n",
    "predicted_y = svm_model.predict(test_x)\n",
    "\n",
    "print(\"Mean squared error: \", mean_squared_error(test_y, predicted_y))\n",
    "print('Variance score: %.2f' % r2_score(test_y, predicted_y))\n",
    "\n",
    "mse_values.append(mean_squared_error(test_y, predicted_y))\n",
    "variance_score.append(r2_score(test_y, predicted_y))\n",
    "\n",
    "#print_values(test_y, predicted_y)"
   ]
  },
  {
   "cell_type": "markdown",
   "metadata": {},
   "source": [
    "### Random forest model"
   ]
  },
  {
   "cell_type": "code",
   "execution_count": 132,
   "metadata": {},
   "outputs": [
    {
     "name": "stderr",
     "output_type": "stream",
     "text": [
      "C:\\ProgramData\\Anaconda3\\lib\\site-packages\\sklearn\\ensemble\\forest.py:246: FutureWarning: The default value of n_estimators will change from 10 in version 0.20 to 100 in 0.22.\n",
      "  \"10 in version 0.20 to 100 in 0.22.\", FutureWarning)\n"
     ]
    },
    {
     "name": "stdout",
     "output_type": "stream",
     "text": [
      "Mean squared error:  0.0017925123983853308\n",
      "Variance score: -0.25\n"
     ]
    }
   ],
   "source": [
    "random_forest = RandomForestRegressor()\n",
    "random_forest.fit(train_x, train_y)\n",
    "predicted_y = random_forest.predict(test_x)\n",
    "\n",
    "print(\"Mean squared error: \", mean_squared_error(test_y, predicted_y))\n",
    "print('Variance score: %.2f' % r2_score(test_y, predicted_y))\n",
    "\n",
    "mse_values.append(mean_squared_error(test_y, predicted_y))\n",
    "variance_score.append(r2_score(test_y, predicted_y))\n",
    "\n",
    "#print_values(test_y, predicted_y)"
   ]
  },
  {
   "cell_type": "markdown",
   "metadata": {},
   "source": [
    "### Bayesian ridge model"
   ]
  },
  {
   "cell_type": "code",
   "execution_count": 133,
   "metadata": {},
   "outputs": [
    {
     "name": "stdout",
     "output_type": "stream",
     "text": [
      "Mean squared error:  0.0014432961907057092\n",
      "Variance score: -0.01\n"
     ]
    }
   ],
   "source": [
    "bayesian_ridge = linear_model.BayesianRidge()\n",
    "bayesian_ridge.fit(train_x, train_y)\n",
    "predicted_y = bayesian_ridge.predict(test_x)\n",
    "\n",
    "print(\"Mean squared error: \", mean_squared_error(test_y, predicted_y))\n",
    "print('Variance score: %.2f' % r2_score(test_y, predicted_y))\n",
    "\n",
    "mse_values.append(mean_squared_error(test_y, predicted_y))\n",
    "variance_score.append(r2_score(test_y, predicted_y))\n",
    "\n",
    "#print_values(test_y, predicted_y)"
   ]
  },
  {
   "cell_type": "markdown",
   "metadata": {},
   "source": [
    "### Lasso model"
   ]
  },
  {
   "cell_type": "code",
   "execution_count": 134,
   "metadata": {},
   "outputs": [
    {
     "name": "stdout",
     "output_type": "stream",
     "text": [
      "Mean squared error:  0.0014437638154593492\n",
      "Variance score: -0.01\n"
     ]
    }
   ],
   "source": [
    "lasso_model = linear_model.Lasso()\n",
    "lasso_model.fit(train_x, train_y)\n",
    "predicted_y = lasso_model.predict(test_x)\n",
    "\n",
    "print(\"Mean squared error: \", mean_squared_error(test_y, predicted_y))\n",
    "print('Variance score: %.2f' % r2_score(test_y, predicted_y))\n",
    "\n",
    "mse_values.append(mean_squared_error(test_y, predicted_y))\n",
    "variance_score.append(r2_score(test_y, predicted_y))\n",
    "\n",
    "#print_values(test_y, predicted_y)"
   ]
  },
  {
   "cell_type": "markdown",
   "metadata": {},
   "source": [
    "## Visualising the results"
   ]
  },
  {
   "cell_type": "markdown",
   "metadata": {},
   "source": [
    "### Mean squared error graph"
   ]
  },
  {
   "cell_type": "code",
   "execution_count": 135,
   "metadata": {
    "scrolled": false
   },
   "outputs": [
    {
     "data": {
      "image/png": "[encoded data removed]",
      "text/plain": [
       "<Figure size 576x432 with 1 Axes>"
      ]
     },
     "metadata": {
      "needs_background": "light"
     },
     "output_type": "display_data"
    }
   ],
   "source": [
    "ticks = [\"Linear Regression\", \"Decision Tree\", \"MLP\", \"SVM\", \"Random Forest\", \"Bayesion Ridge\", \"Lasso\"]\n",
    "generate_plot(\"Plot of MSE values\", ticks, mse_values, 0)"
   ]
  },
  {
   "cell_type": "markdown",
   "metadata": {},
   "source": [
    "### Variance score graph"
   ]
  },
  {
   "cell_type": "code",
   "execution_count": 136,
   "metadata": {
    "scrolled": false
   },
   "outputs": [
    {
     "data": {
      "image/png": "[encoded data removed]",
      "text/plain": [
       "<Figure size 576x432 with 1 Axes>"
      ]
     },
     "metadata": {
      "needs_background": "light"
     },
     "output_type": "display_data"
    }
   ],
   "source": [
    "generate_plot(\"Plot of Variance scores\", ticks, variance_score, 1)"
   ]
  },
  {
   "cell_type": "markdown",
   "metadata": {},
   "source": [
    "The next step is to try out binary classification for this problem."
   ]
  },
  {
   "cell_type": "markdown",
   "metadata": {},
   "source": [
    "## Converting the target values to binary classes"
   ]
  },
  {
   "cell_type": "code",
   "execution_count": 137,
   "metadata": {},
   "outputs": [],
   "source": [
    "binary_area_values = []\n",
    "count = 0\n",
    "\n",
    "for value in area_values:\n",
    "    if(value == 0):\n",
    "        binary_area_values.append(0)\n",
    "    else:\n",
    "        binary_area_values.append(1)"
   ]
  },
  {
   "cell_type": "markdown",
   "metadata": {},
   "source": [
    "## Gaining insights with classification algorithm"
   ]
  },
  {
   "cell_type": "markdown",
   "metadata": {},
   "source": [
    "### Setting the initial parameters"
   ]
  },
  {
   "cell_type": "code",
   "execution_count": 138,
   "metadata": {},
   "outputs": [],
   "source": [
    "accuracy_values = []"
   ]
  },
  {
   "cell_type": "markdown",
   "metadata": {},
   "source": [
    "### Spilliting the available data"
   ]
  },
  {
   "cell_type": "code",
   "execution_count": 139,
   "metadata": {},
   "outputs": [],
   "source": [
    "train_x, test_x, train_y, test_y = train_test_split(attribute_list, binary_area_values, test_size=0.15, random_state = 4)"
   ]
  },
  {
   "cell_type": "markdown",
   "metadata": {},
   "source": [
    "### SGD model"
   ]
  },
  {
   "cell_type": "code",
   "execution_count": 140,
   "metadata": {},
   "outputs": [
    {
     "name": "stdout",
     "output_type": "stream",
     "text": [
      "The predicted values are: [1 1 1 1 1 1 1 1 1 1 1 1 1 1 1 1 1 1 1 1 1 1 1 1 1 1 1 1 1 0 1 1 1 1 1 1 1\n",
      " 1 1 1 1 1 1 1 1 1 1 1 1 1 1 1 1 1 1 1 1 1 1 1 1 1 1 1 1 1 1 1 1 1 1 1 1 1\n",
      " 1 1 1 1]\n",
      "The accuracy score is 50.0.\n"
     ]
    },
    {
     "name": "stderr",
     "output_type": "stream",
     "text": [
      "C:\\ProgramData\\Anaconda3\\lib\\site-packages\\sklearn\\linear_model\\stochastic_gradient.py:166: FutureWarning: max_iter and tol parameters have been added in SGDClassifier in 0.19. If both are left unset, they default to max_iter=5 and tol=None. If tol is not None, max_iter defaults to max_iter=1000. From 0.21, default max_iter will be 1000, and default tol will be 1e-3.\n",
      "  FutureWarning)\n"
     ]
    }
   ],
   "source": [
    "sgd = linear_model.SGDClassifier()\n",
    "sgd.fit(train_x, train_y)\n",
    "predicted_y = sgd.predict(test_x)\n",
    "\n",
    "print(\"The predicted values are:\", predicted_y)\n",
    "print(\"The accuracy score is \" + str(accuracy_score(test_y, predicted_y) * 100) + \".\")\n",
    "\n",
    "accuracy_values.append(accuracy_score(test_y, predicted_y) * 100)"
   ]
  },
  {
   "cell_type": "markdown",
   "metadata": {},
   "source": [
    "### Decision tree model"
   ]
  },
  {
   "cell_type": "code",
   "execution_count": 141,
   "metadata": {},
   "outputs": [
    {
     "name": "stdout",
     "output_type": "stream",
     "text": [
      "The predicted values are: [0 0 1 1 0 1 1 0 0 1 0 1 0 0 0 0 1 1 0 0 0 0 0 0 1 0 1 1 0 1 0 1 0 0 1 1 1\n",
      " 1 0 1 0 1 1 1 0 1 1 0 1 1 1 1 1 0 1 1 1 1 0 1 1 1 1 0 0 0 0 1 1 1 1 0 1 1\n",
      " 0 1 0 1]\n",
      "The accuracy score is 61.53846153846154.\n"
     ]
    }
   ],
   "source": [
    "decision_tree = tree.DecisionTreeClassifier()\n",
    "decision_tree.fit(train_x, train_y)\n",
    "predicted_y = decision_tree.predict(test_x)\n",
    "\n",
    "print(\"The predicted values are:\", predicted_y)\n",
    "print(\"The accuracy score is \" + str(accuracy_score(test_y, predicted_y) * 100) + \".\")\n",
    "\n",
    "accuracy_values.append(accuracy_score(test_y, predicted_y) * 100)"
   ]
  },
  {
   "cell_type": "markdown",
   "metadata": {},
   "source": [
    "### Naive bayes model"
   ]
  },
  {
   "cell_type": "code",
   "execution_count": 142,
   "metadata": {},
   "outputs": [
    {
     "name": "stdout",
     "output_type": "stream",
     "text": [
      "The predicted values are: [1 0 1 0 0 0 1 0 0 1 0 0 0 0 0 1 0 1 1 0 0 0 0 0 0 0 1 0 1 0 0 1 0 1 0 0 1\n",
      " 0 0 1 0 0 0 0 0 0 1 1 1 0 0 1 0 0 0 0 0 0 0 0 1 0 0 0 1 0 0 0 1 0 0 0 1 1\n",
      " 1 0 0 0]\n",
      "The accuracy score is 55.12820512820513.\n"
     ]
    }
   ],
   "source": [
    "naive_bayes = GaussianNB()\n",
    "naive_bayes.fit(train_x, train_y)\n",
    "predicted_y = naive_bayes.predict(test_x)\n",
    "\n",
    "print(\"The predicted values are:\", predicted_y)\n",
    "print(\"The accuracy score is \" + str(accuracy_score(test_y, predicted_y) * 100) + \".\")\n",
    "\n",
    "accuracy_values.append(accuracy_score(test_y, predicted_y) * 100)"
   ]
  },
  {
   "cell_type": "markdown",
   "metadata": {},
   "source": [
    "### SVM model"
   ]
  },
  {
   "cell_type": "code",
   "execution_count": 143,
   "metadata": {},
   "outputs": [
    {
     "name": "stdout",
     "output_type": "stream",
     "text": [
      "The predicted values are: [1 0 1 1 1 1 1 0 1 1 1 1 0 0 1 1 1 1 1 0 0 1 1 1 1 1 1 1 1 0 1 1 1 1 1 1 1\n",
      " 0 0 1 0 0 1 1 0 1 1 1 1 0 0 1 1 0 1 1 1 0 1 1 1 1 1 1 1 1 1 1 1 1 1 1 1 1\n",
      " 1 1 1 1]\n",
      "The accuracy score is 58.97435897435898.\n"
     ]
    }
   ],
   "source": [
    "svm_model = svm.SVC(kernel='linear', gamma=100)\n",
    "svm_model.fit(train_x, train_y)\n",
    "predicted_y = svm_model.predict(test_x)\n",
    "\n",
    "print(\"The predicted values are:\", predicted_y)\n",
    "print(\"The accuracy score is \" + str(accuracy_score(test_y, predicted_y) * 100) + \".\")\n",
    "\n",
    "accuracy_values.append(accuracy_score(test_y, predicted_y) * 100)"
   ]
  },
  {
   "cell_type": "markdown",
   "metadata": {},
   "source": [
    "### Random forest model"
   ]
  },
  {
   "cell_type": "code",
   "execution_count": 144,
   "metadata": {},
   "outputs": [
    {
     "name": "stdout",
     "output_type": "stream",
     "text": [
      "The predicted values are: [1 0 0 0 0 0 1 0 0 1 0 0 0 0 0 1 1 1 0 0 0 0 1 0 1 0 1 1 1 1 0 0 1 1 0 1 1\n",
      " 1 1 1 0 1 1 0 0 1 1 0 1 1 0 1 1 0 0 1 1 1 1 1 1 1 1 0 0 1 0 0 1 0 1 0 1 1\n",
      " 0 1 0 1]\n",
      "The accuracy score is 61.53846153846154.\n"
     ]
    },
    {
     "name": "stderr",
     "output_type": "stream",
     "text": [
      "C:\\ProgramData\\Anaconda3\\lib\\site-packages\\sklearn\\ensemble\\forest.py:246: FutureWarning: The default value of n_estimators will change from 10 in version 0.20 to 100 in 0.22.\n",
      "  \"10 in version 0.20 to 100 in 0.22.\", FutureWarning)\n"
     ]
    }
   ],
   "source": [
    "random_forest = RandomForestClassifier()\n",
    "random_forest.fit(train_x, train_y)\n",
    "predicted_y = random_forest.predict(test_x)\n",
    "\n",
    "print(\"The predicted values are:\", predicted_y)\n",
    "print(\"The accuracy score is \" + str(accuracy_score(test_y, predicted_y) * 100) + \".\")\n",
    "\n",
    "accuracy_values.append(accuracy_score(test_y, predicted_y) * 100)"
   ]
  },
  {
   "cell_type": "markdown",
   "metadata": {},
   "source": [
    "## Visualising the results"
   ]
  },
  {
   "cell_type": "markdown",
   "metadata": {},
   "source": [
    "### Variance score graph"
   ]
  },
  {
   "cell_type": "code",
   "execution_count": 145,
   "metadata": {
    "scrolled": false
   },
   "outputs": [
    {
     "data": {
      "image/png": "[encoded data removed]",
      "text/plain": [
       "<Figure size 576x432 with 1 Axes>"
      ]
     },
     "metadata": {
      "needs_background": "light"
     },
     "output_type": "display_data"
    }
   ],
   "source": [
    "ticks = [\"SGD\", \"Decision tree\", \"Naive bayes\", \"SVM\", \"Random Forest\"]\n",
    "generate_plot(\"Plot of accuracy scores\", ticks, accuracy_values, 2)"
   ]
  },
  {
   "cell_type": "markdown",
   "metadata": {},
   "source": [
    "## Artificial Neural Network - Implementation"
   ]
  },
  {
   "cell_type": "code",
   "execution_count": 146,
   "metadata": {},
   "outputs": [
    {
     "name": "stdout",
     "output_type": "stream",
     "text": [
      "Length of Training data is : 439 and Test data is : 78\n"
     ]
    }
   ],
   "source": [
    "train_x_a = np.array(train_x)\n",
    "test_x_a = np.array(test_x)\n",
    "test_y_a = np.array(test_y)\n",
    "train_y_temp = np.array(train_y)\n",
    "\n",
    "train_y_cl = []\n",
    "for i in range(len(train_y)):\n",
    "    if(train_y[i]>0):\n",
    "        train_y_cl.append(1)\n",
    "    else:\n",
    "        train_y_cl.append(0)\n",
    "train_y_cl = np.array(train_y_cl)\n",
    "\n",
    "print(\"Length of Training data is : \"+str(len(train_x_a))+\" and Test data is : \" + str(len(test_x_a)))"
   ]
  },
  {
   "cell_type": "markdown",
   "metadata": {},
   "source": [
    "### Creating the Keras neural network model"
   ]
  },
  {
   "cell_type": "code",
   "execution_count": 147,
   "metadata": {},
   "outputs": [],
   "source": [
    "model = Sequential()\n",
    "model.add(Dense(12, activation='tanh',input_shape=(12,)))\n",
    "model.add(Dense(12, activation='tanh',input_shape=(12,)))\n",
    "model.add(Dense(1, activation='sigmoid'))"
   ]
  },
  {
   "cell_type": "markdown",
   "metadata": {},
   "source": [
    "### Training, Fitting and Evaluating the model"
   ]
  },
  {
   "cell_type": "code",
   "execution_count": 148,
   "metadata": {
    "scrolled": true
   },
   "outputs": [
    {
     "name": "stdout",
     "output_type": "stream",
     "text": [
      "Epoch 1/100\n",
      "439/439 [==============================] - 1s 3ms/step - loss: 0.8011 - acc: 0.5216\n",
      "Epoch 2/100\n",
      "439/439 [==============================] - 0s 216us/step - loss: 0.7181 - acc: 0.5216\n",
      "Epoch 3/100\n",
      "439/439 [==============================] - 0s 218us/step - loss: 0.6965 - acc: 0.5262\n",
      "Epoch 4/100\n",
      "439/439 [==============================] - 0s 332us/step - loss: 0.6891 - acc: 0.5626\n",
      "Epoch 5/100\n",
      "439/439 [==============================] - 0s 341us/step - loss: 0.6901 - acc: 0.5513\n",
      "Epoch 6/100\n",
      "439/439 [==============================] - 0s 198us/step - loss: 0.6824 - acc: 0.5695\n",
      "Epoch 7/100\n",
      "439/439 [==============================] - 0s 202us/step - loss: 0.6801 - acc: 0.5649\n",
      "Epoch 8/100\n",
      "439/439 [==============================] - 0s 282us/step - loss: 0.6785 - acc: 0.5649\n",
      "Epoch 9/100\n",
      "439/439 [==============================] - 0s 329us/step - loss: 0.6783 - acc: 0.5649\n",
      "Epoch 10/100\n",
      "439/439 [==============================] - 0s 291us/step - loss: 0.6747 - acc: 0.5786\n",
      "Epoch 11/100\n",
      "439/439 [==============================] - 0s 341us/step - loss: 0.6747 - acc: 0.5900\n",
      "Epoch 12/100\n",
      "439/439 [==============================] - 0s 298us/step - loss: 0.6715 - acc: 0.5877\n",
      "Epoch 13/100\n",
      "439/439 [==============================] - 0s 282us/step - loss: 0.6754 - acc: 0.5763\n",
      "Epoch 14/100\n",
      "439/439 [==============================] - 0s 239us/step - loss: 0.6745 - acc: 0.5786\n",
      "Epoch 15/100\n",
      "439/439 [==============================] - 0s 184us/step - loss: 0.6714 - acc: 0.5945\n",
      "Epoch 16/100\n",
      "439/439 [==============================] - 0s 348us/step - loss: 0.6706 - acc: 0.5945\n",
      "Epoch 17/100\n",
      "439/439 [==============================] - 0s 220us/step - loss: 0.6699 - acc: 0.5923\n",
      "Epoch 18/100\n",
      "439/439 [==============================] - 0s 186us/step - loss: 0.6672 - acc: 0.5968\n",
      "Epoch 19/100\n",
      "439/439 [==============================] - 0s 173us/step - loss: 0.6671 - acc: 0.5945\n",
      "Epoch 20/100\n",
      "439/439 [==============================] - 0s 177us/step - loss: 0.6694 - acc: 0.5900\n",
      "Epoch 21/100\n",
      "439/439 [==============================] - 0s 234us/step - loss: 0.6710 - acc: 0.5923\n",
      "Epoch 22/100\n",
      "439/439 [==============================] - 0s 189us/step - loss: 0.6676 - acc: 0.5877\n",
      "Epoch 23/100\n",
      "439/439 [==============================] - 0s 170us/step - loss: 0.6691 - acc: 0.5900\n",
      "Epoch 24/100\n",
      "439/439 [==============================] - 0s 179us/step - loss: 0.6669 - acc: 0.6014\n",
      "Epoch 25/100\n",
      "439/439 [==============================] - 0s 209us/step - loss: 0.6656 - acc: 0.5991\n",
      "Epoch 26/100\n",
      "439/439 [==============================] - 0s 211us/step - loss: 0.6662 - acc: 0.5900\n",
      "Epoch 27/100\n",
      "439/439 [==============================] - 0s 239us/step - loss: 0.6698 - acc: 0.5763\n",
      "Epoch 28/100\n",
      "439/439 [==============================] - 0s 266us/step - loss: 0.6742 - acc: 0.5558\n",
      "Epoch 29/100\n",
      "439/439 [==============================] - 0s 311us/step - loss: 0.6771 - acc: 0.5626\n",
      "Epoch 30/100\n",
      "439/439 [==============================] - 0s 241us/step - loss: 0.6692 - acc: 0.5854\n",
      "Epoch 31/100\n",
      "439/439 [==============================] - 0s 234us/step - loss: 0.6695 - acc: 0.5672\n",
      "Epoch 32/100\n",
      "439/439 [==============================] - 0s 248us/step - loss: 0.6680 - acc: 0.5763\n",
      "Epoch 33/100\n",
      "439/439 [==============================] - 0s 220us/step - loss: 0.6669 - acc: 0.5854\n",
      "Epoch 34/100\n",
      "439/439 [==============================] - 0s 209us/step - loss: 0.6659 - acc: 0.5786\n",
      "Epoch 35/100\n",
      "439/439 [==============================] - 0s 170us/step - loss: 0.6659 - acc: 0.5695\n",
      "Epoch 36/100\n",
      "439/439 [==============================] - 0s 166us/step - loss: 0.6644 - acc: 0.5877\n",
      "Epoch 37/100\n",
      "439/439 [==============================] - 0s 179us/step - loss: 0.6663 - acc: 0.5763\n",
      "Epoch 38/100\n",
      "439/439 [==============================] - 0s 182us/step - loss: 0.6659 - acc: 0.5877\n",
      "Epoch 39/100\n",
      "439/439 [==============================] - 0s 179us/step - loss: 0.6664 - acc: 0.5831\n",
      "Epoch 40/100\n",
      "439/439 [==============================] - 0s 184us/step - loss: 0.6648 - acc: 0.5809\n",
      "Epoch 41/100\n",
      "439/439 [==============================] - 0s 179us/step - loss: 0.6660 - acc: 0.5763\n",
      "Epoch 42/100\n",
      "439/439 [==============================] - 0s 243us/step - loss: 0.6661 - acc: 0.5877\n",
      "Epoch 43/100\n",
      "439/439 [==============================] - 0s 225us/step - loss: 0.6646 - acc: 0.5900\n",
      "Epoch 44/100\n",
      "439/439 [==============================] - 0s 204us/step - loss: 0.6629 - acc: 0.5991\n",
      "Epoch 45/100\n",
      "439/439 [==============================] - 0s 218us/step - loss: 0.6576 - acc: 0.5991\n",
      "Epoch 46/100\n",
      "439/439 [==============================] - 0s 629us/step - loss: 0.6578 - acc: 0.6082\n",
      "Epoch 47/100\n",
      "439/439 [==============================] - 0s 423us/step - loss: 0.6601 - acc: 0.5991\n",
      "Epoch 48/100\n",
      "439/439 [==============================] - 0s 516us/step - loss: 0.6607 - acc: 0.5900\n",
      "Epoch 49/100\n",
      "439/439 [==============================] - 0s 336us/step - loss: 0.6568 - acc: 0.5945\n",
      "Epoch 50/100\n",
      "439/439 [==============================] - 0s 270us/step - loss: 0.6617 - acc: 0.5900\n",
      "Epoch 51/100\n",
      "439/439 [==============================] - 0s 370us/step - loss: 0.6575 - acc: 0.5923\n",
      "Epoch 52/100\n",
      "439/439 [==============================] - 0s 382us/step - loss: 0.6737 - acc: 0.5763\n",
      "Epoch 53/100\n",
      "439/439 [==============================] - 0s 266us/step - loss: 0.6791 - acc: 0.5399\n",
      "Epoch 54/100\n",
      "439/439 [==============================] - 0s 409us/step - loss: 0.6681 - acc: 0.5786\n",
      "Epoch 55/100\n",
      "439/439 [==============================] - 0s 295us/step - loss: 0.6656 - acc: 0.5877\n",
      "Epoch 56/100\n",
      "439/439 [==============================] - 0s 336us/step - loss: 0.6625 - acc: 0.5854\n",
      "Epoch 57/100\n",
      "439/439 [==============================] - 0s 316us/step - loss: 0.6640 - acc: 0.5900\n",
      "Epoch 58/100\n",
      "439/439 [==============================] - 0s 304us/step - loss: 0.6644 - acc: 0.5421\n",
      "Epoch 59/100\n",
      "439/439 [==============================] - 0s 177us/step - loss: 0.6595 - acc: 0.5877\n",
      "Epoch 60/100\n",
      "439/439 [==============================] - 0s 166us/step - loss: 0.6607 - acc: 0.5900\n",
      "Epoch 61/100\n",
      "439/439 [==============================] - 0s 191us/step - loss: 0.6582 - acc: 0.5923\n",
      "Epoch 62/100\n",
      "439/439 [==============================] - 0s 316us/step - loss: 0.6578 - acc: 0.5877\n",
      "Epoch 63/100\n",
      "439/439 [==============================] - 0s 407us/step - loss: 0.6560 - acc: 0.5900\n",
      "Epoch 64/100\n",
      "439/439 [==============================] - 0s 293us/step - loss: 0.6552 - acc: 0.5923\n",
      "Epoch 65/100\n",
      "439/439 [==============================] - 0s 343us/step - loss: 0.6563 - acc: 0.5877\n",
      "Epoch 66/100\n",
      "439/439 [==============================] - 0s 366us/step - loss: 0.6566 - acc: 0.5854\n",
      "Epoch 67/100\n",
      "439/439 [==============================] - 0s 279us/step - loss: 0.6557 - acc: 0.5945\n",
      "Epoch 68/100\n",
      "439/439 [==============================] - 0s 277us/step - loss: 0.6573 - acc: 0.5923\n",
      "Epoch 69/100\n",
      "439/439 [==============================] - 0s 257us/step - loss: 0.6560 - acc: 0.5923\n",
      "Epoch 70/100\n",
      "439/439 [==============================] - 0s 270us/step - loss: 0.6536 - acc: 0.5945\n",
      "Epoch 71/100\n",
      "439/439 [==============================] - 0s 388us/step - loss: 0.6537 - acc: 0.5945\n",
      "Epoch 72/100\n",
      "439/439 [==============================] - 0s 389us/step - loss: 0.6527 - acc: 0.5991\n",
      "Epoch 73/100\n",
      "439/439 [==============================] - 0s 388us/step - loss: 0.6540 - acc: 0.5900\n",
      "Epoch 74/100\n",
      "439/439 [==============================] - 0s 336us/step - loss: 0.6510 - acc: 0.5968\n",
      "Epoch 75/100\n",
      "439/439 [==============================] - 0s 418us/step - loss: 0.6511 - acc: 0.6014\n",
      "Epoch 76/100\n",
      "439/439 [==============================] - 0s 250us/step - loss: 0.6521 - acc: 0.6014\n",
      "Epoch 77/100\n",
      "439/439 [==============================] - 0s 345us/step - loss: 0.6494 - acc: 0.5991\n",
      "Epoch 78/100\n",
      "439/439 [==============================] - 0s 323us/step - loss: 0.6504 - acc: 0.5968\n",
      "Epoch 79/100\n",
      "439/439 [==============================] - 0s 302us/step - loss: 0.6494 - acc: 0.6036\n",
      "Epoch 80/100\n",
      "439/439 [==============================] - 0s 266us/step - loss: 0.6485 - acc: 0.5968\n",
      "Epoch 81/100\n",
      "439/439 [==============================] - 0s 388us/step - loss: 0.6509 - acc: 0.6014\n",
      "Epoch 82/100\n",
      "439/439 [==============================] - 0s 289us/step - loss: 0.6498 - acc: 0.6036\n",
      "Epoch 83/100\n",
      "439/439 [==============================] - 0s 202us/step - loss: 0.6492 - acc: 0.6036\n",
      "Epoch 84/100\n",
      "439/439 [==============================] - 0s 204us/step - loss: 0.6528 - acc: 0.5763\n",
      "Epoch 85/100\n",
      "439/439 [==============================] - 0s 361us/step - loss: 0.6460 - acc: 0.6082\n",
      "Epoch 86/100\n",
      "439/439 [==============================] - 0s 314us/step - loss: 0.6521 - acc: 0.6014\n",
      "Epoch 87/100\n",
      "439/439 [==============================] - 0s 250us/step - loss: 0.6498 - acc: 0.6014\n",
      "Epoch 88/100\n",
      "439/439 [==============================] - 0s 232us/step - loss: 0.6470 - acc: 0.5626\n",
      "Epoch 89/100\n",
      "439/439 [==============================] - 0s 227us/step - loss: 0.6487 - acc: 0.6036\n",
      "Epoch 90/100\n",
      "439/439 [==============================] - 0s 229us/step - loss: 0.6408 - acc: 0.6128\n",
      "Epoch 91/100\n",
      "439/439 [==============================] - 0s 229us/step - loss: 0.6443 - acc: 0.6219\n",
      "Epoch 92/100\n",
      "439/439 [==============================] - 0s 214us/step - loss: 0.6432 - acc: 0.6241\n",
      "Epoch 93/100\n",
      "439/439 [==============================] - 0s 202us/step - loss: 0.6458 - acc: 0.5923\n",
      "Epoch 94/100\n",
      "439/439 [==============================] - 0s 261us/step - loss: 0.6411 - acc: 0.6355\n",
      "Epoch 95/100\n",
      "439/439 [==============================] - 0s 229us/step - loss: 0.6465 - acc: 0.6014\n",
      "Epoch 96/100\n",
      "439/439 [==============================] - 0s 204us/step - loss: 0.6480 - acc: 0.5923\n",
      "Epoch 97/100\n",
      "439/439 [==============================] - 0s 150us/step - loss: 0.6443 - acc: 0.6150\n",
      "Epoch 98/100\n",
      "439/439 [==============================] - 0s 177us/step - loss: 0.6475 - acc: 0.6082\n",
      "Epoch 99/100\n",
      "439/439 [==============================] - 0s 198us/step - loss: 0.6453 - acc: 0.6241\n",
      "Epoch 100/100\n",
      "439/439 [==============================] - 0s 182us/step - loss: 0.6492 - acc: 0.5945\n",
      "78/78 [==============================] - 0s 4ms/step\n",
      "acc: 56.41%\n"
     ]
    }
   ],
   "source": [
    "# Compile model\n",
    "model.compile(loss='binary_crossentropy', optimizer='adam', metrics=['accuracy'])\n",
    "\n",
    "# Fit the model\n",
    "model.fit(train_x_a,train_y_cl, epochs=100, batch_size=8)\n",
    "\n",
    "# Evaluate the model\n",
    "scores = model.evaluate(test_x_a, test_y_a)\n",
    "print(\"%s: %.2f%%\" % (model.metrics_names[1], scores[1]*100))"
   ]
  },
  {
   "cell_type": "markdown",
   "metadata": {},
   "source": [
    "## Artificial Neural Network - Regression Model"
   ]
  },
  {
   "cell_type": "markdown",
   "metadata": {},
   "source": [
    "### Defining base model"
   ]
  },
  {
   "cell_type": "code",
   "execution_count": 149,
   "metadata": {},
   "outputs": [],
   "source": [
    "def baseline_model():\n",
    "    # create model\n",
    "    model = Sequential()\n",
    "    model.add(Dense(12, input_dim=12, kernel_initializer='normal', activation='relu'))\n",
    "    model.add(Dense(1, kernel_initializer='normal'))\n",
    "    # compile model\n",
    "    model.compile(loss='mean_squared_error', optimizer='adam')\n",
    "    return model"
   ]
  },
  {
   "cell_type": "markdown",
   "metadata": {},
   "source": [
    "### Creating sequential model"
   ]
  },
  {
   "cell_type": "code",
   "execution_count": 150,
   "metadata": {},
   "outputs": [],
   "source": [
    "model = Sequential()\n",
    "model.add(Dense(12, input_dim=12, kernel_initializer='normal', activation='relu'))\n",
    "model.add(Dense(1, kernel_initializer='normal'))"
   ]
  },
  {
   "cell_type": "markdown",
   "metadata": {},
   "source": [
    "### Compiling & training the model"
   ]
  },
  {
   "cell_type": "code",
   "execution_count": 151,
   "metadata": {},
   "outputs": [
    {
     "name": "stdout",
     "output_type": "stream",
     "text": [
      "Epoch 1/150\n",
      "439/439 [==============================] - 1s 2ms/step - loss: 1.1029\n",
      "Epoch 2/150\n",
      "439/439 [==============================] - 0s 429us/step - loss: 0.2569\n",
      "Epoch 3/150\n",
      "439/439 [==============================] - 0s 343us/step - loss: 0.2672\n",
      "Epoch 4/150\n",
      "439/439 [==============================] - 0s 441us/step - loss: 0.2600\n",
      "Epoch 5/150\n",
      "439/439 [==============================] - 0s 413us/step - loss: 0.2705\n",
      "Epoch 6/150\n",
      "439/439 [==============================] - 0s 538us/step - loss: 0.2709\n",
      "Epoch 7/150\n",
      "439/439 [==============================] - 0s 448us/step - loss: 0.2595\n",
      "Epoch 8/150\n",
      "439/439 [==============================] - 0s 277us/step - loss: 0.2707\n",
      "Epoch 9/150\n",
      "439/439 [==============================] - 0s 293us/step - loss: 0.2637\n",
      "Epoch 10/150\n",
      "439/439 [==============================] - 0s 388us/step - loss: 0.2854\n",
      "Epoch 11/150\n",
      "439/439 [==============================] - 0s 432us/step - loss: 0.2571\n",
      "Epoch 12/150\n",
      "439/439 [==============================] - 0s 463us/step - loss: 0.2865\n",
      "Epoch 13/150\n",
      "439/439 [==============================] - 0s 300us/step - loss: 0.2621\n",
      "Epoch 14/150\n",
      "439/439 [==============================] - 0s 348us/step - loss: 0.2682\n",
      "Epoch 15/150\n",
      "439/439 [==============================] - 0s 314us/step - loss: 0.2937\n",
      "Epoch 16/150\n",
      "439/439 [==============================] - 0s 266us/step - loss: 0.2572\n",
      "Epoch 17/150\n",
      "439/439 [==============================] - 0s 284us/step - loss: 0.2671\n",
      "Epoch 18/150\n",
      "439/439 [==============================] - 0s 295us/step - loss: 0.2580\n",
      "Epoch 19/150\n",
      "439/439 [==============================] - 0s 336us/step - loss: 0.2584\n",
      "Epoch 20/150\n",
      "439/439 [==============================] - 0s 304us/step - loss: 0.2483\n",
      "Epoch 21/150\n",
      "439/439 [==============================] - 0s 354us/step - loss: 0.2548\n",
      "Epoch 22/150\n",
      "439/439 [==============================] - 0s 359us/step - loss: 0.2480\n",
      "Epoch 23/150\n",
      "439/439 [==============================] - 0s 286us/step - loss: 0.2513\n",
      "Epoch 24/150\n",
      "439/439 [==============================] - 0s 291us/step - loss: 0.2495\n",
      "Epoch 25/150\n",
      "439/439 [==============================] - 0s 273us/step - loss: 0.2491\n",
      "Epoch 26/150\n",
      "439/439 [==============================] - 0s 264us/step - loss: 0.2559\n",
      "Epoch 27/150\n",
      "439/439 [==============================] - 0s 275us/step - loss: 0.2598\n",
      "Epoch 28/150\n",
      "439/439 [==============================] - 0s 270us/step - loss: 0.2512\n",
      "Epoch 29/150\n",
      "439/439 [==============================] - 0s 332us/step - loss: 0.2506\n",
      "Epoch 30/150\n",
      "439/439 [==============================] - 0s 339us/step - loss: 0.2503\n",
      "Epoch 31/150\n",
      "439/439 [==============================] - 0s 273us/step - loss: 0.2520\n",
      "Epoch 32/150\n",
      "439/439 [==============================] - 0s 368us/step - loss: 0.2417\n",
      "Epoch 33/150\n",
      "439/439 [==============================] - 0s 309us/step - loss: 0.2460\n",
      "Epoch 34/150\n",
      "439/439 [==============================] - 0s 268us/step - loss: 0.2481\n",
      "Epoch 35/150\n",
      "439/439 [==============================] - 0s 257us/step - loss: 0.2453\n",
      "Epoch 36/150\n",
      "439/439 [==============================] - 0s 304us/step - loss: 0.2484\n",
      "Epoch 37/150\n",
      "439/439 [==============================] - 0s 300us/step - loss: 0.2476\n",
      "Epoch 38/150\n",
      "439/439 [==============================] - 0s 298us/step - loss: 0.2481\n",
      "Epoch 39/150\n",
      "439/439 [==============================] - 0s 398us/step - loss: 0.2433\n",
      "Epoch 40/150\n",
      "439/439 [==============================] - 0s 584us/step - loss: 0.2475 0s - loss: 0.\n",
      "Epoch 41/150\n",
      "439/439 [==============================] - 0s 348us/step - loss: 0.2422\n",
      "Epoch 42/150\n",
      "439/439 [==============================] - 0s 416us/step - loss: 0.2519\n",
      "Epoch 43/150\n",
      "439/439 [==============================] - 0s 488us/step - loss: 0.2430\n",
      "Epoch 44/150\n",
      "439/439 [==============================] - 0s 295us/step - loss: 0.2442\n",
      "Epoch 45/150\n",
      "439/439 [==============================] - 0s 291us/step - loss: 0.2425\n",
      "Epoch 46/150\n",
      "439/439 [==============================] - 0s 295us/step - loss: 0.2475\n",
      "Epoch 47/150\n",
      "439/439 [==============================] - 0s 339us/step - loss: 0.2411\n",
      "Epoch 48/150\n",
      "439/439 [==============================] - 0s 518us/step - loss: 0.2425\n",
      "Epoch 49/150\n",
      "439/439 [==============================] - 0s 395us/step - loss: 0.2417\n",
      "Epoch 50/150\n",
      "439/439 [==============================] - 0s 425us/step - loss: 0.2429\n",
      "Epoch 51/150\n",
      "439/439 [==============================] - 0s 339us/step - loss: 0.2396\n",
      "Epoch 52/150\n",
      "439/439 [==============================] - 0s 295us/step - loss: 0.2517\n",
      "Epoch 53/150\n",
      "439/439 [==============================] - 0s 307us/step - loss: 0.2393\n",
      "Epoch 54/150\n",
      "439/439 [==============================] - ETA: 0s - loss: 0.239 - 0s 345us/step - loss: 0.2445\n",
      "Epoch 55/150\n",
      "439/439 [==============================] - 0s 261us/step - loss: 0.2449\n",
      "Epoch 56/150\n",
      "439/439 [==============================] - 0s 284us/step - loss: 0.2411\n",
      "Epoch 57/150\n",
      "439/439 [==============================] - 0s 352us/step - loss: 0.2408\n",
      "Epoch 58/150\n",
      "439/439 [==============================] - 0s 345us/step - loss: 0.2410\n",
      "Epoch 59/150\n",
      "439/439 [==============================] - 0s 277us/step - loss: 0.2398\n",
      "Epoch 60/150\n",
      "439/439 [==============================] - 0s 336us/step - loss: 0.2411\n",
      "Epoch 61/150\n",
      "439/439 [==============================] - 0s 298us/step - loss: 0.2422\n",
      "Epoch 62/150\n",
      "439/439 [==============================] - 0s 350us/step - loss: 0.2384\n",
      "Epoch 63/150\n",
      "439/439 [==============================] - 0s 448us/step - loss: 0.2379\n",
      "Epoch 64/150\n",
      "439/439 [==============================] - 0s 298us/step - loss: 0.2462\n",
      "Epoch 65/150\n",
      "439/439 [==============================] - 0s 284us/step - loss: 0.2419\n",
      "Epoch 66/150\n",
      "439/439 [==============================] - 0s 286us/step - loss: 0.2386\n",
      "Epoch 67/150\n",
      "439/439 [==============================] - 0s 325us/step - loss: 0.2419\n",
      "Epoch 68/150\n",
      "439/439 [==============================] - 0s 413us/step - loss: 0.2413\n",
      "Epoch 69/150\n",
      "439/439 [==============================] - 0s 404us/step - loss: 0.2394\n",
      "Epoch 70/150\n",
      "439/439 [==============================] - 0s 289us/step - loss: 0.2398\n",
      "Epoch 71/150\n",
      "439/439 [==============================] - 0s 264us/step - loss: 0.2369\n",
      "Epoch 72/150\n",
      "439/439 [==============================] - 0s 250us/step - loss: 0.2366\n",
      "Epoch 73/150\n",
      "439/439 [==============================] - 0s 254us/step - loss: 0.2438\n",
      "Epoch 74/150\n",
      "439/439 [==============================] - 0s 245us/step - loss: 0.2490\n",
      "Epoch 75/150\n",
      "439/439 [==============================] - 0s 248us/step - loss: 0.2375\n",
      "Epoch 76/150\n",
      "439/439 [==============================] - 0s 268us/step - loss: 0.2395\n",
      "Epoch 77/150\n",
      "439/439 [==============================] - 0s 270us/step - loss: 0.2347\n",
      "Epoch 78/150\n",
      "439/439 [==============================] - 0s 359us/step - loss: 0.2466\n",
      "Epoch 79/150\n",
      "439/439 [==============================] - 0s 286us/step - loss: 0.2409\n",
      "Epoch 80/150\n",
      "439/439 [==============================] - 0s 311us/step - loss: 0.2373\n",
      "Epoch 81/150\n",
      "439/439 [==============================] - 0s 318us/step - loss: 0.2341\n",
      "Epoch 82/150\n",
      "439/439 [==============================] - 0s 254us/step - loss: 0.2395\n",
      "Epoch 83/150\n",
      "439/439 [==============================] - 0s 248us/step - loss: 0.2349\n",
      "Epoch 84/150\n",
      "439/439 [==============================] - 0s 266us/step - loss: 0.2378\n",
      "Epoch 85/150\n",
      "439/439 [==============================] - 0s 264us/step - loss: 0.2360\n",
      "Epoch 86/150\n",
      "439/439 [==============================] - 0s 259us/step - loss: 0.2429\n",
      "Epoch 87/150\n",
      "439/439 [==============================] - 0s 248us/step - loss: 0.2368\n",
      "Epoch 88/150\n",
      "439/439 [==============================] - 0s 252us/step - loss: 0.2336\n",
      "Epoch 89/150\n",
      "439/439 [==============================] - 0s 309us/step - loss: 0.2386\n",
      "Epoch 90/150\n",
      "439/439 [==============================] - 0s 320us/step - loss: 0.2332\n",
      "Epoch 91/150\n",
      "439/439 [==============================] - 0s 268us/step - loss: 0.2404\n",
      "Epoch 92/150\n",
      "439/439 [==============================] - 0s 404us/step - loss: 0.2355\n",
      "Epoch 93/150\n",
      "439/439 [==============================] - 0s 402us/step - loss: 0.2308\n",
      "Epoch 94/150\n",
      "439/439 [==============================] - 0s 339us/step - loss: 0.2384\n",
      "Epoch 95/150\n",
      "439/439 [==============================] - 0s 277us/step - loss: 0.2383\n",
      "Epoch 96/150\n",
      "439/439 [==============================] - 0s 282us/step - loss: 0.2350\n",
      "Epoch 97/150\n"
     ]
    },
    {
     "name": "stdout",
     "output_type": "stream",
     "text": [
      "439/439 [==============================] - 0s 300us/step - loss: 0.2373\n",
      "Epoch 98/150\n",
      "439/439 [==============================] - 0s 298us/step - loss: 0.2370\n",
      "Epoch 99/150\n",
      "439/439 [==============================] - 0s 334us/step - loss: 0.2323\n",
      "Epoch 100/150\n",
      "439/439 [==============================] - 0s 541us/step - loss: 0.2364\n",
      "Epoch 101/150\n",
      "439/439 [==============================] - 0s 534us/step - loss: 0.2366\n",
      "Epoch 102/150\n",
      "439/439 [==============================] - 0s 366us/step - loss: 0.2280\n",
      "Epoch 103/150\n",
      "439/439 [==============================] - 0s 366us/step - loss: 0.2339\n",
      "Epoch 104/150\n",
      "439/439 [==============================] - 0s 352us/step - loss: 0.2392\n",
      "Epoch 105/150\n",
      "439/439 [==============================] - 0s 388us/step - loss: 0.2381\n",
      "Epoch 106/150\n",
      "439/439 [==============================] - 0s 470us/step - loss: 0.2362\n",
      "Epoch 107/150\n",
      "439/439 [==============================] - 0s 486us/step - loss: 0.2319\n",
      "Epoch 108/150\n",
      "439/439 [==============================] - 0s 327us/step - loss: 0.2350\n",
      "Epoch 109/150\n",
      "439/439 [==============================] - 0s 339us/step - loss: 0.2331\n",
      "Epoch 110/150\n",
      "439/439 [==============================] - 0s 400us/step - loss: 0.2380\n",
      "Epoch 111/150\n",
      "439/439 [==============================] - 0s 577us/step - loss: 0.2325\n",
      "Epoch 112/150\n",
      "439/439 [==============================] - 0s 409us/step - loss: 0.2375\n",
      "Epoch 113/150\n",
      "439/439 [==============================] - 0s 452us/step - loss: 0.2379\n",
      "Epoch 114/150\n",
      "439/439 [==============================] - 0s 504us/step - loss: 0.2355\n",
      "Epoch 115/150\n",
      "439/439 [==============================] - 0s 332us/step - loss: 0.2317\n",
      "Epoch 116/150\n",
      "439/439 [==============================] - 0s 488us/step - loss: 0.2338\n",
      "Epoch 117/150\n",
      "439/439 [==============================] - 0s 289us/step - loss: 0.2376\n",
      "Epoch 118/150\n",
      "439/439 [==============================] - 0s 293us/step - loss: 0.2319\n",
      "Epoch 119/150\n",
      "439/439 [==============================] - 0s 273us/step - loss: 0.2328\n",
      "Epoch 120/150\n",
      "439/439 [==============================] - 0s 459us/step - loss: 0.2292\n",
      "Epoch 121/150\n",
      "439/439 [==============================] - 0s 368us/step - loss: 0.2341\n",
      "Epoch 122/150\n",
      "439/439 [==============================] - 0s 309us/step - loss: 0.2365\n",
      "Epoch 123/150\n",
      "439/439 [==============================] - 0s 343us/step - loss: 0.2324\n",
      "Epoch 124/150\n",
      "439/439 [==============================] - 0s 427us/step - loss: 0.2352\n",
      "Epoch 125/150\n",
      "439/439 [==============================] - 0s 566us/step - loss: 0.2348\n",
      "Epoch 126/150\n",
      "439/439 [==============================] - 0s 420us/step - loss: 0.2316\n",
      "Epoch 127/150\n",
      "439/439 [==============================] - 0s 348us/step - loss: 0.2319\n",
      "Epoch 128/150\n",
      "439/439 [==============================] - 0s 582us/step - loss: 0.2331\n",
      "Epoch 129/150\n",
      "439/439 [==============================] - 0s 866us/step - loss: 0.2338\n",
      "Epoch 130/150\n",
      "439/439 [==============================] - 0s 498us/step - loss: 0.2314\n",
      "Epoch 131/150\n",
      "439/439 [==============================] - 0s 707us/step - loss: 0.2334\n",
      "Epoch 132/150\n",
      "439/439 [==============================] - 0s 872us/step - loss: 0.2329\n",
      "Epoch 133/150\n",
      "439/439 [==============================] - 0s 318us/step - loss: 0.2354 0s - loss: 0.227\n",
      "Epoch 134/150\n",
      "439/439 [==============================] - 0s 289us/step - loss: 0.2286\n",
      "Epoch 135/150\n",
      "439/439 [==============================] - 0s 747us/step - loss: 0.2317\n",
      "Epoch 136/150\n",
      "439/439 [==============================] - 0s 854us/step - loss: 0.2352\n",
      "Epoch 137/150\n",
      "439/439 [==============================] - 0s 277us/step - loss: 0.2341\n",
      "Epoch 138/150\n",
      "439/439 [==============================] - 0s 298us/step - loss: 0.2301\n",
      "Epoch 139/150\n",
      "439/439 [==============================] - 0s 279us/step - loss: 0.2308\n",
      "Epoch 140/150\n",
      "439/439 [==============================] - 0s 286us/step - loss: 0.2333\n",
      "Epoch 141/150\n",
      "439/439 [==============================] - 0s 257us/step - loss: 0.2335\n",
      "Epoch 142/150\n",
      "439/439 [==============================] - 0s 293us/step - loss: 0.2293\n",
      "Epoch 143/150\n",
      "439/439 [==============================] - 0s 377us/step - loss: 0.2276\n",
      "Epoch 144/150\n",
      "439/439 [==============================] - 0s 300us/step - loss: 0.2314\n",
      "Epoch 145/150\n",
      "439/439 [==============================] - 0s 363us/step - loss: 0.2335\n",
      "Epoch 146/150\n",
      "439/439 [==============================] - 0s 345us/step - loss: 0.2335\n",
      "Epoch 147/150\n",
      "439/439 [==============================] - 0s 293us/step - loss: 0.2321\n",
      "Epoch 148/150\n",
      "439/439 [==============================] - 0s 307us/step - loss: 0.2334\n",
      "Epoch 149/150\n",
      "439/439 [==============================] - 0s 298us/step - loss: 0.2309\n",
      "Epoch 150/150\n",
      "439/439 [==============================] - 0s 279us/step - loss: 0.2321\n"
     ]
    }
   ],
   "source": [
    "# compile model\n",
    "model.compile(loss='mean_squared_error', optimizer='adam')\n",
    "\n",
    "# train model\n",
    "history = model.fit(np.array(train_x), np.array(train_y), epochs=150, batch_size=4, verbose=1)"
   ]
  },
  {
   "cell_type": "markdown",
   "metadata": {},
   "source": [
    "### Make Predictions"
   ]
  },
  {
   "cell_type": "code",
   "execution_count": 152,
   "metadata": {},
   "outputs": [],
   "source": [
    "predicted = model.predict( np.array(test_x),batch_size=None, verbose=0, steps=1)"
   ]
  },
  {
   "cell_type": "markdown",
   "metadata": {},
   "source": [
    "### Evaluate model with standardized dataset"
   ]
  },
  {
   "cell_type": "code",
   "execution_count": 153,
   "metadata": {},
   "outputs": [],
   "source": [
    "estimator = KerasRegressor(build_fn=baseline_model, nb_epoch=100, batch_size=5, verbose=1)"
   ]
  },
  {
   "cell_type": "code",
   "execution_count": 154,
   "metadata": {},
   "outputs": [],
   "source": [
    "seed = 14\n",
    "np.random.seed(seed)"
   ]
  },
  {
   "cell_type": "markdown",
   "metadata": {},
   "source": [
    "### Model Validation - 10 fold validation"
   ]
  },
  {
   "cell_type": "code",
   "execution_count": 155,
   "metadata": {},
   "outputs": [
    {
     "name": "stdout",
     "output_type": "stream",
     "text": [
      "Epoch 1/1\n",
      "70/70 [==============================] - 1s 19ms/step - loss: 0.4048\n",
      "8/8 [==============================] - 0s 25ms/step\n",
      "Epoch 1/1\n",
      "70/70 [==============================] - 1s 13ms/step - loss: 2.5348\n",
      "8/8 [==============================] - 0s 26ms/step\n",
      "Epoch 1/1\n",
      "70/70 [==============================] - 1s 12ms/step - loss: 1.2811\n",
      "8/8 [==============================] - 0s 28ms/step\n",
      "Epoch 1/1\n",
      "70/70 [==============================] - 1s 13ms/step - loss: 0.5107\n",
      "8/8 [==============================] - 0s 29ms/step\n",
      "Epoch 1/1\n",
      "70/70 [==============================] - 1s 14ms/step - loss: 0.6114\n",
      "8/8 [==============================] - 0s 30ms/step\n",
      "Epoch 1/1\n",
      "70/70 [==============================] - 1s 13ms/step - loss: 0.4416\n",
      "8/8 [==============================] - 0s 35ms/step\n",
      "Epoch 1/1\n",
      "70/70 [==============================] - 1s 15ms/step - loss: 0.9324\n",
      "8/8 [==============================] - 0s 48ms/step\n",
      "Epoch 1/1\n",
      "70/70 [==============================] - 1s 19ms/step - loss: 82.8918\n",
      "8/8 [==============================] - 0s 36ms/step\n",
      "Epoch 1/1\n",
      "71/71 [==============================] - 1s 14ms/step - loss: 16.0237\n",
      "7/7 [==============================] - 0s 45ms/step\n",
      "Epoch 1/1\n",
      "71/71 [==============================] - 1s 16ms/step - loss: 0.6582\n",
      "7/7 [==============================] - 0s 48ms/step\n",
      "Results: -3.72 (7.57) MSE\n"
     ]
    }
   ],
   "source": [
    "kfold = KFold(n_splits=10, random_state=seed)\n",
    "results = cross_val_score(estimator, np.array(test_x), np.array(test_y), cv=kfold)\n",
    "print(\"Results: %.2f (%.2f) MSE\" % (results.mean(), results.std()))"
   ]
  },
  {
   "cell_type": "markdown",
   "metadata": {},
   "source": [
    "### Checking the MSE and variance scores"
   ]
  },
  {
   "cell_type": "code",
   "execution_count": 156,
   "metadata": {},
   "outputs": [
    {
     "name": "stdout",
     "output_type": "stream",
     "text": [
      "Mean squared error:  0.24274639000191237\n",
      "Variance score: 0.03\n"
     ]
    }
   ],
   "source": [
    "print(\"Mean squared error: \", mean_squared_error(test_y, predicted))\n",
    "print('Variance score: %.2f' % r2_score(test_y, predicted))"
   ]
  },
  {
   "cell_type": "code",
   "execution_count": null,
   "metadata": {},
   "outputs": [],
   "source": []
  }
 ],
 "metadata": {
  "kernelspec": {
   "display_name": "Python 3 (ipykernel)",
   "language": "python",
   "name": "python3"
  },
  "language_info": {
   "codemirror_mode": {
    "name": "ipython",
    "version": 3
   },
   "file_extension": ".py",
   "mimetype": "text/x-python",
   "name": "python",
   "nbconvert_exporter": "python",
   "pygments_lexer": "ipython3",
   "version": "3.7.10"
  }
 },
 "nbformat": 4,
 "nbformat_minor": 2
}
